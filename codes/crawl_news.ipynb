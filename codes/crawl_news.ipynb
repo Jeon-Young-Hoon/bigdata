{
 "cells": [
  {
   "cell_type": "code",
   "execution_count": 9,
   "metadata": {},
   "outputs": [],
   "source": [
    "import urllib.request\n",
    "import urllib.parse\n",
    "\n",
    "from bs4 import BeautifulSoup\n",
    "\n",
    "count = 0\n",
    "def main(start):\n",
    "    defaultURL = 'https://openapi.naver.com/v1/search/news.xml?'\n",
    "    # 새로운 API에서 사용하는 요청 변수를 각각의 변수에 담아둡니다.\n",
    "    sort = 'sort=sim'\n",
    "    start = '&start={0}'.format(start)\n",
    "    display = '&display=100'\n",
    "    query = '&query=' + urllib.parse.quote_plus(str(input(\"검색어를 입력하세요: \")))  # 사용자에게 검색어를 입력받아 quote_plus 함수로 UTF-8 타입에 맞도록 변환시켜 줍니다.\n",
    "    fullURL = defaultURL + sort + start + display + query\n",
    "    print(fullURL)\n",
    "    headers = {\n",
    "        'Host' : 'openapi.naver.com',\n",
    "        'User-Agent' : 'curl/7.43.0',\n",
    "        'Accept' : '*/*',\n",
    "        'Content-Type' : 'application/xml',\n",
    "        'X-Naver-Client-Id' : '3ImHfZCn75Sl9IM8i4ji',\n",
    "        'X-Naver-Client-Secret' : '04rvD6ZEZS'\n",
    "     }\n",
    "     # HTTP 요청을 하기 전에 헤더 정보를 이용해 request 객체를 생성합니다. urllib 모듈에서 헤더 정보를 서버에 전달할 때 사용하는 대표적인 방법입니다.\n",
    "    req = urllib.request.Request(fullURL, headers=headers)\n",
    "    # 생성된 request객체를 uplopen함수의 인수로 전달합니다. 이렇게 되면 헤더 정보를 포함하여 서버에게 HTTP 요청을 하게 됩니다.\n",
    "    f = urllib.request.urlopen(req)\n",
    "    resultXML = f.read()\n",
    "    xmlsoup = BeautifulSoup(resultXML, 'html.parser')\n",
    "    items = xmlsoup.find_all('item')\n",
    "    return items\n"
   ]
  },
  {
   "cell_type": "code",
   "execution_count": 10,
   "metadata": {
    "scrolled": true
   },
   "outputs": [
    {
     "name": "stdout",
     "output_type": "stream",
     "text": [
      "검색어를 입력하세요: 한석원수학\n",
      "https://openapi.naver.com/v1/search/news.xml?sort=sim&start=1&display=100&query=%ED%95%9C%EC%84%9D%EC%9B%90%EC%88%98%ED%95%99\n",
      "검색어를 입력하세요: 한석원수학\n",
      "https://openapi.naver.com/v1/search/news.xml?sort=sim&start=101&display=100&query=%ED%95%9C%EC%84%9D%EC%9B%90%EC%88%98%ED%95%99\n",
      "검색어를 입력하세요: 한석원수학\n",
      "https://openapi.naver.com/v1/search/news.xml?sort=sim&start=201&display=100&query=%ED%95%9C%EC%84%9D%EC%9B%90%EC%88%98%ED%95%99\n",
      "검색어를 입력하세요: 한석원수학\n",
      "https://openapi.naver.com/v1/search/news.xml?sort=sim&start=301&display=100&query=%ED%95%9C%EC%84%9D%EC%9B%90%EC%88%98%ED%95%99\n",
      "검색어를 입력하세요: 한석원수학\n",
      "https://openapi.naver.com/v1/search/news.xml?sort=sim&start=401&display=100&query=%ED%95%9C%EC%84%9D%EC%9B%90%EC%88%98%ED%95%99\n"
     ]
    }
   ],
   "source": [
    "dataList = []\n",
    "for i in range(1,501,100):\n",
    "    data = main(i)\n",
    "    dataList.append(data)"
   ]
  },
  {
   "cell_type": "code",
   "execution_count": 12,
   "metadata": {},
   "outputs": [],
   "source": [
    "count = 0\n",
    "with open(\"news.txt\", \"w\", encoding='utf-8') as fp:\n",
    "    for i in dataList:\n",
    "        for item in i:\n",
    "            fp.write('--------------------------\\n')\n",
    "            count += 1\n",
    "            fp.write(\"{0}\\n\".format(count))\n",
    "            fp.write('뉴스제목 : ' + item.title.get_text(strip=True) + '\\n')\n",
    "            fp.write('요약내용 : ' + item.description.get_text(strip=True) + '\\n')\n",
    "            fp.write('링크 : ' + item.originallink.get_text(strip=True) + '\\n')\n",
    "            fp.write('날짜 : ' + item.pubdate.get_text(strip=True) + '\\n')\n",
    "            fp.write('--------------------------\\n')"
   ]
  },
  {
   "cell_type": "code",
   "execution_count": 4,
   "metadata": {},
   "outputs": [],
   "source": [
    "count = 0\n",
    "linkSet = set()\n",
    "linkDict = dict()\n",
    "with open(\"originallink.txt\", \"w\", encoding='utf-8') as fp:\n",
    "    for i in dataList:\n",
    "        for item in i:\n",
    "            link = item.originallink.get_text(strip=True)\n",
    "            try:\n",
    "                link = link.split(\"/\")[2]\n",
    "                linkSet.add(link)\n",
    "                if link in linkDict.keys():\n",
    "                    linkDict[link] += 1\n",
    "                else:\n",
    "                    linkDict[link] = 1\n",
    "            \n",
    "            except IndexError:\n",
    "                pass\n",
    "            fp.write('--------------------------\\n')\n",
    "            count += 1\n",
    "            fp.write(\"{0}\\n\".format(count))\n",
    "            fp.write('링크 : ' + link + '\\n')\n",
    "            fp.write('--------------------------\\n')"
   ]
  },
  {
   "cell_type": "code",
   "execution_count": 5,
   "metadata": {},
   "outputs": [],
   "source": [
    "sorted_by_value = sorted(linkDict.items(), key=lambda kv: kv[1],reverse=True)"
   ]
  },
  {
   "cell_type": "code",
   "execution_count": 6,
   "metadata": {},
   "outputs": [],
   "source": [
    "sorted_by_value = dict(sorted_by_value)"
   ]
  },
  {
   "cell_type": "code",
   "execution_count": 7,
   "metadata": {},
   "outputs": [
    {
     "data": {
      "text/plain": [
       "{'www.veritas-a.com': 42,\n",
       " 'www.newstown.co.kr': 40,\n",
       " 'www.edaily.co.kr': 37,\n",
       " 'www.fnnews.com': 28,\n",
       " 'www.newscj.com': 16,\n",
       " 'news.mtn.co.kr': 16,\n",
       " 'www.newstomato.com': 15,\n",
       " 'biz.heraldcorp.com': 14,\n",
       " 'news.mk.co.kr': 14,\n",
       " 'www.anewsa.com': 12,\n",
       " 'www.enewstoday.co.kr': 11,\n",
       " 'www.wowtv.co.kr': 11,\n",
       " 'www.moneyweek.co.kr': 10,\n",
       " 'www.etoday.co.kr': 10,\n",
       " 'www.ajunews.com': 9,\n",
       " 'www.newspim.com': 7,\n",
       " 'edu.donga.com': 6,\n",
       " 'www.readersnews.com': 6,\n",
       " 'news.donga.com': 6,\n",
       " 'www.nbnnews.co.kr': 5,\n",
       " 'news.kukinews.com': 5,\n",
       " 'www.ebn.co.kr': 5,\n",
       " 'view.heraldcorp.com': 5,\n",
       " 'news1.kr': 4,\n",
       " 'famtimes.co.kr': 4,\n",
       " 'www.dailysecu.com': 4,\n",
       " 'www.nbntv.co.kr': 4,\n",
       " 'www.daejonilbo.com': 4,\n",
       " 'www.ekn.kr': 4,\n",
       " 'view.asiae.co.kr': 4,\n",
       " 'www.newsis.com': 4,\n",
       " 'www.dt.co.kr': 4,\n",
       " 'www.lawissue.co.kr': 3,\n",
       " 'www.chungnamilbo.com': 3,\n",
       " 'www2.enewstoday.co.kr': 3,\n",
       " 'www.segye.com': 3,\n",
       " 'www.metroseoul.co.kr': 3,\n",
       " 'www.asiae.co.kr': 3,\n",
       " 'www.m-i.kr': 2,\n",
       " 'daily.hankooki.com': 2,\n",
       " 'research-paper.co.kr': 2,\n",
       " 'www.g-enews.com': 2,\n",
       " 'www.donga.com': 2,\n",
       " 'www.seoul.co.kr': 2,\n",
       " 'app.yonhapnews.co.kr': 2,\n",
       " 'www.ajnews.co.kr': 2,\n",
       " 'www.newsprime.co.kr': 2,\n",
       " 'www.seoulfn.com': 2,\n",
       " 'www.newsrep.co.kr': 1,\n",
       " 'www.ccdn.co.kr': 1,\n",
       " 'www.polinews.co.kr': 1,\n",
       " 'paxnetdaily.moneta.co.kr': 1,\n",
       " 'news.hankyung.com': 1,\n",
       " 'www.newsfarm.co.kr': 1,\n",
       " 'www.sjpost.co.kr': 1,\n",
       " 'www.fsnews.co.kr': 1,\n",
       " 'nbnnews.co.kr': 1,\n",
       " 'www.newsculture.tv': 1,\n",
       " 'www.sedaily.com': 1,\n",
       " 'bizn.donga.com': 1,\n",
       " 'www.cstimes.com': 1,\n",
       " 'news.heraldcorp.com': 1,\n",
       " 'www.dailian.co.kr': 1,\n",
       " 'news.kmib.co.kr': 1,\n",
       " 'www.khan.co.kr': 1,\n",
       " 'kids.hankooki.com': 1,\n",
       " 'www.ihalla.com': 1,\n",
       " 'www.viva100.com': 1,\n",
       " 'biz.newdaily.co.kr': 1,\n",
       " 'nownews.seoul.co.kr': 1,\n",
       " 'www.mediapen.com': 1,\n",
       " 'www.m-economynews.com': 1,\n",
       " 'www.mt.co.kr': 1,\n",
       " 'newsmaker.khan.co.kr': 1,\n",
       " 'view.heraldm.com': 1,\n",
       " 'www.asiatoday.co.kr': 1,\n",
       " 'www.kookje.co.kr': 1,\n",
       " 'sportsworldi.segye.com': 1,\n",
       " 'www.hkbs.co.kr': 1,\n",
       " 'www.jejunews.com': 1,\n",
       " 'news.unn.net': 1,\n",
       " 'www.segyefn.com': 1,\n",
       " 'news20.busan.com': 1,\n",
       " 'www.betanews.net:8080': 1,\n",
       " 'it.chosun.com': 1,\n",
       " 'chicnews.mk.co.kr': 1,\n",
       " 'www.mydaily.co.kr': 1,\n",
       " 'weekly2.cnbnews.com': 1,\n",
       " 'www.cctoday.co.kr': 1,\n",
       " 'www.womennews.co.kr': 1,\n",
       " 'www.ohmynews.com': 1}"
      ]
     },
     "execution_count": 7,
     "metadata": {},
     "output_type": "execute_result"
    }
   ],
   "source": [
    "sorted_by_value"
   ]
  },
  {
   "cell_type": "code",
   "execution_count": null,
   "metadata": {},
   "outputs": [],
   "source": []
  }
 ],
 "metadata": {
  "kernelspec": {
   "display_name": "Python 3",
   "language": "python",
   "name": "python3"
  },
  "language_info": {
   "codemirror_mode": {
    "name": "ipython",
    "version": 3
   },
   "file_extension": ".py",
   "mimetype": "text/x-python",
   "name": "python",
   "nbconvert_exporter": "python",
   "pygments_lexer": "ipython3",
   "version": "3.6.5"
  }
 },
 "nbformat": 4,
 "nbformat_minor": 2
}
