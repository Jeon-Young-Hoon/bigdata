{
 "cells": [
  {
   "cell_type": "code",
   "execution_count": 2,
   "metadata": {},
   "outputs": [
    {
     "name": "stderr",
     "output_type": "stream",
     "text": [
      "/anaconda3/lib/python3.6/importlib/_bootstrap.py:219: RuntimeWarning: numpy.dtype size changed, may indicate binary incompatibility. Expected 96, got 88\n",
      "  return f(*args, **kwds)\n",
      "/anaconda3/lib/python3.6/importlib/_bootstrap.py:219: RuntimeWarning: numpy.dtype size changed, may indicate binary incompatibility. Expected 96, got 88\n",
      "  return f(*args, **kwds)\n"
     ]
    }
   ],
   "source": [
    "import pandas as pd \n",
    "after = pd.read_csv('after_csv.csv')\n",
    "after.dropna(inplace=True)"
   ]
  },
  {
   "cell_type": "code",
   "execution_count": 3,
   "metadata": {},
   "outputs": [],
   "source": [
    "from konlpy.tag import Kkma\n",
    "kkma = Kkma()"
   ]
  },
  {
   "cell_type": "code",
   "execution_count": 4,
   "metadata": {},
   "outputs": [
    {
     "name": "stderr",
     "output_type": "stream",
     "text": [
      "/anaconda3/lib/python3.6/importlib/_bootstrap.py:219: RuntimeWarning: numpy.dtype size changed, may indicate binary incompatibility. Expected 96, got 88\n",
      "  return f(*args, **kwds)\n",
      "/anaconda3/lib/python3.6/importlib/_bootstrap.py:219: RuntimeWarning: numpy.dtype size changed, may indicate binary incompatibility. Expected 96, got 88\n",
      "  return f(*args, **kwds)\n",
      "/anaconda3/lib/python3.6/importlib/_bootstrap.py:219: RuntimeWarning: numpy.dtype size changed, may indicate binary incompatibility. Expected 96, got 88\n",
      "  return f(*args, **kwds)\n"
     ]
    }
   ],
   "source": [
    "import nltk"
   ]
  },
  {
   "cell_type": "code",
   "execution_count": 5,
   "metadata": {},
   "outputs": [],
   "source": [
    "koParser = nltk.RegexpParser(\"\"\"\n",
    "    NC0: {<N.*>*<ET.*>}\n",
    "    NC1: {<N.*>*<ET.*>*<S.>}\n",
    "    NC2: {<N.*>*<EC.*>}\n",
    "    NC3: {<N.*>*<EC.*>*<S.>}\n",
    "    NC4: {<N.*>*<EF.*>*<S.>}\n",
    "    NC4: {<N.*>*<EF.*>}\n",
    "\"\"\")"
   ]
  },
  {
   "cell_type": "code",
   "execution_count": 21,
   "metadata": {},
   "outputs": [],
   "source": [
    "import re\n",
    "from konlpy.tag import Kkma\n",
    "kkma = Kkma()\n",
    "\n",
    "def kkmaTokenize(doc):\n",
    "    return ['/'.join(t) for t in kkma.pos(doc)]"
   ]
  },
  {
   "cell_type": "code",
   "execution_count": 7,
   "metadata": {},
   "outputs": [],
   "source": [
    "def chunk(dataframe):\n",
    "    result = list()\n",
    "    tempList = list()\n",
    "    \n",
    "    for j in range(len(dataframe)):\n",
    "        print(j)\n",
    "        sentenceList = after.iloc[j, -1].split()\n",
    "        temp = str()\n",
    "        for k in range(len(sentenceList)):\n",
    "            if len(sentenceList[k]) < 14:\n",
    "                temp += ' '\n",
    "                temp += sentenceList[k]\n",
    "            else:\n",
    "                temp += ' '\n",
    "                temp += sentenceList[k][:14]\n",
    "        koChunks = koParser.parse(kkma.pos(temp))\n",
    "        for i in koChunks:\n",
    "            m = re.search('NC[0-9]*[ ]*[.?!,]*[ㄱ-ㅎ]*[가-힣]*\\/[a-zA-Z]*',str(i))\n",
    "            try:\n",
    "                if m == None:\n",
    "                    tempList.append('/'.join(i))\n",
    "                else:\n",
    "                    temp = str(i)[:-1]\n",
    "                    tempList.append(temp.split(' ')[-1])\n",
    "                    result.extend([tempList])\n",
    "                    tempList = list()\n",
    "            except TypeError:\n",
    "                print(i)\n",
    "                print(TypeError)   \n",
    "    return result"
   ]
  },
  {
   "cell_type": "code",
   "execution_count": 16,
   "metadata": {},
   "outputs": [
    {
     "data": {
      "text/plain": [
       "911515"
      ]
     },
     "execution_count": 16,
     "metadata": {},
     "output_type": "execute_result"
    }
   ],
   "source": [
    "len(sentences)"
   ]
  },
  {
   "cell_type": "code",
   "execution_count": 17,
   "metadata": {},
   "outputs": [],
   "source": [
    "from gensim.models.word2vec import Word2Vec\n",
    "from gensim.test.utils import get_tmpfile"
   ]
  },
  {
   "cell_type": "code",
   "execution_count": 18,
   "metadata": {},
   "outputs": [
    {
     "name": "stdout",
     "output_type": "stream",
     "text": [
      "CPU times: user 34.6 s, sys: 312 ms, total: 34.9 s\n",
      "Wall time: 14.1 s\n"
     ]
    }
   ],
   "source": [
    "%%time\n",
    "\n",
    "model = Word2Vec(sentences)\n",
    "model.init_sims(replace=True)"
   ]
  },
  {
   "cell_type": "code",
   "execution_count": 19,
   "metadata": {},
   "outputs": [],
   "source": [
    "path = get_tmpfile(\"jeolWord2vec.model\")\n",
    "model.save(\"jeolWord2vec.model\")"
   ]
  },
  {
   "cell_type": "code",
   "execution_count": 22,
   "metadata": {},
   "outputs": [
    {
     "name": "stderr",
     "output_type": "stream",
     "text": [
      "/anaconda3/lib/python3.6/site-packages/gensim/matutils.py:737: FutureWarning: Conversion of the second argument of issubdtype from `int` to `np.signedinteger` is deprecated. In future, it will be treated as `np.int64 == np.dtype(int).type`.\n",
      "  if np.issubdtype(vec.dtype, np.int):\n"
     ]
    },
    {
     "data": {
      "text/plain": [
       "[('괜찮/VA', 0.891963005065918),\n",
       " ('낫/VA', 0.8068375587463379),\n",
       " ('많/VA', 0.7301651239395142),\n",
       " ('높/VA', 0.694369912147522),\n",
       " ('낫/VV', 0.6888868808746338),\n",
       " ('낮/VA', 0.6560744047164917),\n",
       " ('똑같/VA', 0.6035032272338867),\n",
       " ('어렵/VA', 0.5904446244239807),\n",
       " ('짧/VA', 0.5665674209594727),\n",
       " ('옳/VA', 0.565894365310669),\n",
       " ('적/VA', 0.5620991587638855),\n",
       " ('끌리/VV', 0.5557117462158203),\n",
       " ('맞/VV', 0.5497649908065796),\n",
       " ('알맞/VA', 0.5405969619750977),\n",
       " ('같/VA', 0.5380272269248962),\n",
       " ('닮/VV', 0.5368685722351074),\n",
       " ('쉽/VA', 0.5313050150871277),\n",
       " ('재밌/VA', 0.5144882798194885),\n",
       " ('깊/VA', 0.5108382105827332),\n",
       " ('있/VV', 0.5051102638244629)]"
      ]
     },
     "execution_count": 22,
     "metadata": {},
     "output_type": "execute_result"
    }
   ],
   "source": [
    "model.wv.most_similar(*kkmaTokenize(u'좋'), topn=20)"
   ]
  },
  {
   "cell_type": "code",
   "execution_count": null,
   "metadata": {},
   "outputs": [],
   "source": []
  }
 ],
 "metadata": {
  "kernelspec": {
   "display_name": "Python 3",
   "language": "python",
   "name": "python3"
  },
  "language_info": {
   "codemirror_mode": {
    "name": "ipython",
    "version": 3
   },
   "file_extension": ".py",
   "mimetype": "text/x-python",
   "name": "python",
   "nbconvert_exporter": "python",
   "pygments_lexer": "ipython3",
   "version": "3.6.5"
  }
 },
 "nbformat": 4,
 "nbformat_minor": 2
}
