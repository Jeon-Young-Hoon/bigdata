{
 "cells": [
  {
   "cell_type": "markdown",
   "metadata": {},
   "source": [
    "# Kkma"
   ]
  },
  {
   "cell_type": "code",
   "execution_count": 1,
   "metadata": {},
   "outputs": [
    {
     "name": "stderr",
     "output_type": "stream",
     "text": [
      "/anaconda3/lib/python3.6/importlib/_bootstrap.py:219: RuntimeWarning: numpy.dtype size changed, may indicate binary incompatibility. Expected 96, got 88\n",
      "  return f(*args, **kwds)\n",
      "/anaconda3/lib/python3.6/importlib/_bootstrap.py:219: RuntimeWarning: numpy.dtype size changed, may indicate binary incompatibility. Expected 96, got 88\n",
      "  return f(*args, **kwds)\n"
     ]
    }
   ],
   "source": [
    "import pandas as pd \n",
    "after = pd.read_csv('after_csv.csv')\n",
    "raw = pd.read_csv('final.csv')\n",
    "before = pd.read_csv('before_csv.csv')"
   ]
  },
  {
   "cell_type": "code",
   "execution_count": 2,
   "metadata": {},
   "outputs": [],
   "source": [
    "from konlpy.tag import Kkma\n",
    "kkma = Kkma()\n",
    "\n",
    "def kkmaTokenize(doc):\n",
    "    return ['/'.join(t) for t in kkma.pos(doc)]"
   ]
  },
  {
   "cell_type": "code",
   "execution_count": 10,
   "metadata": {},
   "outputs": [],
   "source": [
    "after.dropna(inplace=True)"
   ]
  },
  {
   "cell_type": "code",
   "execution_count": 24,
   "metadata": {},
   "outputs": [],
   "source": [
    "from konlpy.tag import Kkma\n",
    "kkma = Kkma()"
   ]
  },
  {
   "cell_type": "code",
   "execution_count": 123,
   "metadata": {},
   "outputs": [],
   "source": [
    "def make_sentences(dataframe):\n",
    "    sentences = list()\n",
    "    a=0\n",
    "    for d in dataframe.iloc[:,-1]:\n",
    "        a += 1\n",
    "        sentenceList = list()\n",
    "        sentenceList = d.split()\n",
    "        for j in range(len(sentenceList)):\n",
    "            if len(sentenceList[j]) > 16:\n",
    "#                 print(sentenceList[j])\n",
    "                sentenceList[j] = sentenceList[j][:14]\n",
    "#                 print(sentenceList[j])\n",
    "#         print(sentenceList)\n",
    "        tempList=list()\n",
    "        for i in sentenceList:\n",
    "            for t in kkma.pos(i):\n",
    "                tempList.append('/'.join(t))\n",
    "#                 print(tempList)\n",
    "        sentences.extend([tempList])\n",
    "        print(a)\n",
    "#         print(sentenceList)\n",
    "    return sentences"
   ]
  },
  {
   "cell_type": "code",
   "execution_count": 91,
   "metadata": {},
   "outputs": [],
   "source": [
    "def make_sentences2(dataframe):\n",
    "    from konlpy.tag import Kkma\n",
    "    kkma = Kkma()\n",
    "    sentences = list()\n",
    "    a=0\n",
    "    for d in dataframe.iloc[0:5000,-1]:\n",
    "        a += 1\n",
    "        sentenceList = d.split()\n",
    "        for j in sentenceList:\n",
    "            if len(j) > 16:\n",
    "                j = j[:14]\n",
    "            tempList=list()\n",
    "            for t in kkma.pos(j):\n",
    "                tempList.append('/'.join(t))\n",
    "            sentences.extend([tempList])\n",
    "    return sentences"
   ]
  },
  {
   "cell_type": "code",
   "execution_count": null,
   "metadata": {},
   "outputs": [],
   "source": [
    "sentences = make_sentences(after)"
   ]
  },
  {
   "cell_type": "code",
   "execution_count": 125,
   "metadata": {},
   "outputs": [
    {
     "data": {
      "text/plain": [
       "(180797, 180797)"
      ]
     },
     "execution_count": 125,
     "metadata": {},
     "output_type": "execute_result"
    }
   ],
   "source": [
    "len(sentences), len(after)"
   ]
  },
  {
   "cell_type": "code",
   "execution_count": 157,
   "metadata": {},
   "outputs": [],
   "source": [
    "df = pd.DataFrame(sentences, columns=None)"
   ]
  },
  {
   "cell_type": "code",
   "execution_count": 165,
   "metadata": {},
   "outputs": [
    {
     "data": {
      "text/plain": [
       "180797"
      ]
     },
     "execution_count": 165,
     "metadata": {},
     "output_type": "execute_result"
    }
   ],
   "source": [
    "len(df)"
   ]
  },
  {
   "cell_type": "code",
   "execution_count": 225,
   "metadata": {},
   "outputs": [],
   "source": [
    "df.to_csv('pos_tag.csv')"
   ]
  },
  {
   "cell_type": "code",
   "execution_count": 199,
   "metadata": {},
   "outputs": [
    {
     "data": {
      "text/html": [
       "<div>\n",
       "<style scoped>\n",
       "    .dataframe tbody tr th:only-of-type {\n",
       "        vertical-align: middle;\n",
       "    }\n",
       "\n",
       "    .dataframe tbody tr th {\n",
       "        vertical-align: top;\n",
       "    }\n",
       "\n",
       "    .dataframe thead th {\n",
       "        text-align: right;\n",
       "    }\n",
       "</style>\n",
       "<table border=\"1\" class=\"dataframe\">\n",
       "  <thead>\n",
       "    <tr style=\"text-align: right;\">\n",
       "      <th></th>\n",
       "      <th>0</th>\n",
       "      <th>1</th>\n",
       "      <th>2</th>\n",
       "      <th>3</th>\n",
       "      <th>4</th>\n",
       "      <th>5</th>\n",
       "      <th>6</th>\n",
       "      <th>7</th>\n",
       "      <th>8</th>\n",
       "      <th>9</th>\n",
       "      <th>...</th>\n",
       "      <th>369</th>\n",
       "      <th>370</th>\n",
       "      <th>371</th>\n",
       "      <th>372</th>\n",
       "      <th>373</th>\n",
       "      <th>374</th>\n",
       "      <th>375</th>\n",
       "      <th>376</th>\n",
       "      <th>377</th>\n",
       "      <th>378</th>\n",
       "    </tr>\n",
       "  </thead>\n",
       "  <tbody>\n",
       "    <tr>\n",
       "      <th>0</th>\n",
       "      <td>한석원/NNP</td>\n",
       "      <td>생질/NNG</td>\n",
       "      <td>공부/NNG</td>\n",
       "      <td>하/XSV</td>\n",
       "      <td>ㄹ/ETD</td>\n",
       "      <td>때/NNG</td>\n",
       "      <td>개념/NNG</td>\n",
       "      <td>강의/NNG</td>\n",
       "      <td>다/NNG</td>\n",
       "      <td>듣/VV</td>\n",
       "      <td>...</td>\n",
       "      <td>None</td>\n",
       "      <td>None</td>\n",
       "      <td>None</td>\n",
       "      <td>None</td>\n",
       "      <td>None</td>\n",
       "      <td>None</td>\n",
       "      <td>None</td>\n",
       "      <td>None</td>\n",
       "      <td>None</td>\n",
       "      <td>None</td>\n",
       "    </tr>\n",
       "    <tr>\n",
       "      <th>1</th>\n",
       "      <td>나/NP</td>\n",
       "      <td>형/NNG</td>\n",
       "      <td>현우/NNG</td>\n",
       "      <td>진/XSN</td>\n",
       "      <td>뉴런/NNG</td>\n",
       "      <td>-/SW</td>\n",
       "      <td>&gt;/SS</td>\n",
       "      <td>한석원/NNP</td>\n",
       "      <td>크포/NNP</td>\n",
       "      <td>힘들/VV</td>\n",
       "      <td>...</td>\n",
       "      <td>None</td>\n",
       "      <td>None</td>\n",
       "      <td>None</td>\n",
       "      <td>None</td>\n",
       "      <td>None</td>\n",
       "      <td>None</td>\n",
       "      <td>None</td>\n",
       "      <td>None</td>\n",
       "      <td>None</td>\n",
       "      <td>None</td>\n",
       "    </tr>\n",
       "    <tr>\n",
       "      <th>2</th>\n",
       "      <td>미적/NNG</td>\n",
       "      <td>2/NR</td>\n",
       "      <td>개념/NNG</td>\n",
       "      <td>강의/NNG</td>\n",
       "      <td>한석원/NNP</td>\n",
       "      <td>vs/OL</td>\n",
       "      <td>현우/NNG</td>\n",
       "      <td>진한/NNG</td>\n",
       "      <td>석원/NNP</td>\n",
       "      <td>t/OL</td>\n",
       "      <td>...</td>\n",
       "      <td>None</td>\n",
       "      <td>None</td>\n",
       "      <td>None</td>\n",
       "      <td>None</td>\n",
       "      <td>None</td>\n",
       "      <td>None</td>\n",
       "      <td>None</td>\n",
       "      <td>None</td>\n",
       "      <td>None</td>\n",
       "      <td>None</td>\n",
       "    </tr>\n",
       "    <tr>\n",
       "      <th>3</th>\n",
       "      <td>1/NR</td>\n",
       "      <td>학년/NNG</td>\n",
       "      <td>중/NNB</td>\n",
       "      <td>에/JKM</td>\n",
       "      <td>한석원/NNP</td>\n",
       "      <td>생질/NNG</td>\n",
       "      <td>듣/VV</td>\n",
       "      <td>는/ETD</td>\n",
       "      <td>분/NNG</td>\n",
       "      <td>계시/VV</td>\n",
       "      <td>...</td>\n",
       "      <td>None</td>\n",
       "      <td>None</td>\n",
       "      <td>None</td>\n",
       "      <td>None</td>\n",
       "      <td>None</td>\n",
       "      <td>None</td>\n",
       "      <td>None</td>\n",
       "      <td>None</td>\n",
       "      <td>None</td>\n",
       "      <td>None</td>\n",
       "    </tr>\n",
       "    <tr>\n",
       "      <th>4</th>\n",
       "      <td>이창무/NNP</td>\n",
       "      <td>+/SW</td>\n",
       "      <td>한석원/NNP</td>\n",
       "      <td>vs/OL</td>\n",
       "      <td>현우/NNG</td>\n",
       "      <td>진대/NNG</td>\n",
       "      <td>성/XSN</td>\n",
       "      <td>프패/NNP</td>\n",
       "      <td>끊/VV</td>\n",
       "      <td>고/ECE</td>\n",
       "      <td>...</td>\n",
       "      <td>None</td>\n",
       "      <td>None</td>\n",
       "      <td>None</td>\n",
       "      <td>None</td>\n",
       "      <td>None</td>\n",
       "      <td>None</td>\n",
       "      <td>None</td>\n",
       "      <td>None</td>\n",
       "      <td>None</td>\n",
       "      <td>None</td>\n",
       "    </tr>\n",
       "  </tbody>\n",
       "</table>\n",
       "<p>5 rows × 379 columns</p>\n",
       "</div>"
      ],
      "text/plain": [
       "       0       1        2       3        4       5       6        7       8    \\\n",
       "0  한석원/NNP  생질/NNG   공부/NNG   하/XSV    ㄹ/ETD   때/NNG  개념/NNG   강의/NNG   다/NNG   \n",
       "1     나/NP   형/NNG   현우/NNG   진/XSN   뉴런/NNG    -/SW    >/SS  한석원/NNP  크포/NNP   \n",
       "2   미적/NNG    2/NR   개념/NNG  강의/NNG  한석원/NNP   vs/OL  현우/NNG   진한/NNG  석원/NNP   \n",
       "3     1/NR  학년/NNG    중/NNB   에/JKM  한석원/NNP  생질/NNG    듣/VV    는/ETD   분/NNG   \n",
       "4  이창무/NNP    +/SW  한석원/NNP   vs/OL   현우/NNG  진대/NNG   성/XSN   프패/NNP    끊/VV   \n",
       "\n",
       "     9    ...    369   370   371   372   373   374   375   376   377   378  \n",
       "0   듣/VV  ...   None  None  None  None  None  None  None  None  None  None  \n",
       "1  힘들/VV  ...   None  None  None  None  None  None  None  None  None  None  \n",
       "2   t/OL  ...   None  None  None  None  None  None  None  None  None  None  \n",
       "3  계시/VV  ...   None  None  None  None  None  None  None  None  None  None  \n",
       "4  고/ECE  ...   None  None  None  None  None  None  None  None  None  None  \n",
       "\n",
       "[5 rows x 379 columns]"
      ]
     },
     "execution_count": 199,
     "metadata": {},
     "output_type": "execute_result"
    }
   ],
   "source": [
    "df.head()"
   ]
  },
  {
   "cell_type": "code",
   "execution_count": 226,
   "metadata": {},
   "outputs": [
    {
     "name": "stderr",
     "output_type": "stream",
     "text": [
      "/anaconda3/lib/python3.6/site-packages/IPython/core/interactiveshell.py:2785: DtypeWarning: Columns (2,3,4,5,6,7,8,9,10,11,12,13,14,15,16,17,18,19,20,21,22,23,24,25,26,27,28,29,30,31,32,33,34,35,36,37,38,39,40,41,42,43,44,45,46,47,48,49,50,51,52,53,54,55,56,57,58,59,60,61,62,63,64,65,66,67,68,69,70,71,72,73,74,75,76,77,78,79,80,81,82,83,84,85,86,87,88,89,90,91,92,93,94,95,96,97,98,99,100,101,102,103,104,105,106,107,108,109,110,111,112,113,114,115,116,117,118,119,120,121,122,123,124,125,126,127,128,129,130,131,132,133,134,135,136,137,138,139,140,141,142,143,144,145,146,147,148,149,150,151,152,153,154,155,156,157,158,159,160,161,162,163,164,165,166,167,168,169,170,171,172,173,174,175,176,177,178,179,180,181,182,183,184,185,186,187,188,189,190,191,192,193,194,195,196,197,198,199,200,201,202,203,204,205,206,207,208,209,210,211,212,213,214,215,216,217,218,219,220,221,222,223,224,225,226,227,228,229,230,231,232,233,234,235,236,237,238,239,240,241,242,243,244,245,246,247,248,249,250,251,252,253,254,255,256,257,258,259,260,261,262,263,264,265,266,267,268,269,270,271,272,273,274,275,276,277,278,279,280,281,282,283,284,285,286,287,288,289,290,291,292,293,294,295,296,297,298,299,300,301,302,303,304,305,306,307,308,309,310,311,312,313,314,315,316,317,318,319,320,321,322,323,324,325,326,327,328,329,330,331,332,333,334,335,336,337,338,339,340,341,342,343,344,345,346,347,348,349,350,351,352,353,354,355,356,357,358,359,360,361,362,363,364,365,366,367,368,369,370,371,372,373,374,375,376,377,378,379) have mixed types. Specify dtype option on import or set low_memory=False.\n",
      "  interactivity=interactivity, compiler=compiler, result=result)\n"
     ]
    }
   ],
   "source": [
    "df2 = pd.read_csv('pos_tag.csv')"
   ]
  },
  {
   "cell_type": "code",
   "execution_count": 227,
   "metadata": {},
   "outputs": [],
   "source": [
    "def dataframeToList(df):\n",
    "    result = list()\n",
    "    for i in range(len(df)):\n",
    "        temp=list()\n",
    "        for j in df2.iloc[i,1:].dropna():\n",
    "            temp.append(j)\n",
    "        result.extend([temp])\n",
    "    return result"
   ]
  },
  {
   "cell_type": "code",
   "execution_count": 228,
   "metadata": {},
   "outputs": [],
   "source": [
    "yes = dataframeToList(df2)"
   ]
  },
  {
   "cell_type": "code",
   "execution_count": 229,
   "metadata": {},
   "outputs": [
    {
     "data": {
      "text/plain": [
       "True"
      ]
     },
     "execution_count": 229,
     "metadata": {},
     "output_type": "execute_result"
    }
   ],
   "source": [
    "yes == sentences"
   ]
  },
  {
   "cell_type": "markdown",
   "metadata": {},
   "source": [
    "## after"
   ]
  },
  {
   "cell_type": "code",
   "execution_count": 126,
   "metadata": {},
   "outputs": [],
   "source": [
    "from gensim.models.word2vec import Word2Vec"
   ]
  },
  {
   "cell_type": "code",
   "execution_count": 127,
   "metadata": {},
   "outputs": [
    {
     "name": "stdout",
     "output_type": "stream",
     "text": [
      "CPU times: user 32.4 s, sys: 150 ms, total: 32.5 s\n",
      "Wall time: 11.8 s\n"
     ]
    }
   ],
   "source": [
    "%%time\n",
    "\n",
    "model = Word2Vec(sentences)\n",
    "model.init_sims(replace=True)"
   ]
  },
  {
   "cell_type": "markdown",
   "metadata": {},
   "source": [
    "## 긍정"
   ]
  },
  {
   "cell_type": "code",
   "execution_count": 154,
   "metadata": {},
   "outputs": [
    {
     "name": "stderr",
     "output_type": "stream",
     "text": [
      "/anaconda3/lib/python3.6/site-packages/gensim/matutils.py:737: FutureWarning: Conversion of the second argument of issubdtype from `int` to `np.signedinteger` is deprecated. In future, it will be treated as `np.int64 == np.dtype(int).type`.\n",
      "  if np.issubdtype(vec.dtype, np.int):\n"
     ]
    },
    {
     "data": {
      "text/plain": [
       "[('삽/NNG', 0.6485856175422668),\n",
       " ('빡/UN', 0.6449852585792542),\n",
       " ('석원/NNP', 0.613007664680481),\n",
       " ('승제/NNG', 0.6060893535614014),\n",
       " ('정승제/NNP', 0.5925803780555725),\n",
       " ('창무/XR', 0.5804954171180725),\n",
       " ('남휘종/NNP', 0.5707745552062988),\n",
       " ('손광균/NNP', 0.5488069653511047),\n",
       " ('이창무/NNP', 0.5404330492019653),\n",
       " ('우진/NNP', 0.5313239097595215),\n",
       " ('신승범/NNP', 0.5169593095779419),\n",
       " ('삽자루/NNG', 0.5163042545318604),\n",
       " ('김성은/NNP', 0.5132624506950378),\n",
       " ('강필/NNG', 0.512362539768219),\n",
       " ('수능적해석/NNP', 0.5060439109802246),\n",
       " ('강호길/NNP', 0.503663182258606),\n",
       " ('이기홍/NNP', 0.49330437183380127),\n",
       " ('신/NNG', 0.49138838052749634),\n",
       " ('문해전/NNP', 0.4659730792045593),\n",
       " ('크리티컬포인트/NNP', 0.4622885584831238)]"
      ]
     },
     "execution_count": 154,
     "metadata": {},
     "output_type": "execute_result"
    }
   ],
   "source": [
    "model.wv.most_similar(*kkmaTokenize(u'한석원'), topn=20)"
   ]
  },
  {
   "cell_type": "code",
   "execution_count": 155,
   "metadata": {},
   "outputs": [
    {
     "name": "stderr",
     "output_type": "stream",
     "text": [
      "/anaconda3/lib/python3.6/site-packages/gensim/matutils.py:737: FutureWarning: Conversion of the second argument of issubdtype from `int` to `np.signedinteger` is deprecated. In future, it will be treated as `np.int64 == np.dtype(int).type`.\n",
      "  if np.issubdtype(vec.dtype, np.int):\n"
     ]
    },
    {
     "data": {
      "text/plain": [
       "[('크리티컬포인트/NNP', 0.6699323654174805),\n",
       " ('뉴런/NNG', 0.6687912940979004),\n",
       " ('문해전/NNP', 0.6560261845588684),\n",
       " ('시냅스/NNG', 0.6312920451164246),\n",
       " ('절지/NNG', 0.620236873626709),\n",
       " ('드릴/NNG', 0.615452229976654),\n",
       " ('알텍/NNP', 0.5997278094291687),\n",
       " ('생질/NNG', 0.5977300405502319),\n",
       " ('알파/NNG', 0.5880607962608337),\n",
       " ('수해/NNG', 0.5664107799530029),\n",
       " ('고쟁이/NNG', 0.5651819705963135),\n",
       " ('이창무/NNP', 0.5508842468261719),\n",
       " ('한완수/NNP', 0.5084468126296997),\n",
       " ('포모/NNP', 0.5038446187973022),\n",
       " ('크리티컬/NNP', 0.49807503819465637),\n",
       " ('수비/NNG', 0.49530261754989624),\n",
       " ('수투/NNG', 0.4922454059123993),\n",
       " ('파이널/NNG', 0.48066747188568115),\n",
       " ('2130/NR', 0.47565633058547974),\n",
       " ('베이스/NNG', 0.4746935963630676)]"
      ]
     },
     "execution_count": 155,
     "metadata": {},
     "output_type": "execute_result"
    }
   ],
   "source": [
    "model.wv.most_similar(*kkmaTokenize(u'크포'), topn=20)"
   ]
  },
  {
   "cell_type": "code",
   "execution_count": 153,
   "metadata": {
    "scrolled": true
   },
   "outputs": [
    {
     "name": "stderr",
     "output_type": "stream",
     "text": [
      "/anaconda3/lib/python3.6/site-packages/gensim/matutils.py:737: FutureWarning: Conversion of the second argument of issubdtype from `int` to `np.signedinteger` is deprecated. In future, it will be treated as `np.int64 == np.dtype(int).type`.\n",
      "  if np.issubdtype(vec.dtype, np.int):\n"
     ]
    },
    {
     "data": {
      "text/plain": [
       "[('괜찮/VA', 0.8647981286048889),\n",
       " ('낫/VA', 0.7885785102844238),\n",
       " ('많/VA', 0.6999470591545105),\n",
       " ('똑같/VA', 0.6897569894790649),\n",
       " ('낫/VV', 0.688701868057251),\n",
       " ('높/VA', 0.6855565309524536),\n",
       " ('낮/VA', 0.6374832391738892),\n",
       " ('짧/VA', 0.623843789100647),\n",
       " ('알맞/VA', 0.6183049082756042),\n",
       " ('맞/VV', 0.603929877281189),\n",
       " ('옳/VA', 0.5982489585876465),\n",
       " ('적/VA', 0.5898608565330505),\n",
       " ('싫/VA', 0.5517982244491577),\n",
       " ('재밌/VA', 0.546000599861145),\n",
       " ('늦/VA', 0.5423479080200195),\n",
       " ('작/VA', 0.5278424024581909),\n",
       " ('얇/VA', 0.5186184048652649),\n",
       " ('닮/VV', 0.5140695571899414),\n",
       " ('주옥같/VA', 0.5006353259086609),\n",
       " ('문제없/VA', 0.5001649260520935)]"
      ]
     },
     "execution_count": 153,
     "metadata": {},
     "output_type": "execute_result"
    }
   ],
   "source": [
    "model.wv.most_similar(*kkmaTokenize(u'좋'), topn=20)"
   ]
  },
  {
   "cell_type": "code",
   "execution_count": 143,
   "metadata": {},
   "outputs": [
    {
     "name": "stderr",
     "output_type": "stream",
     "text": [
      "/anaconda3/lib/python3.6/site-packages/gensim/matutils.py:737: FutureWarning: Conversion of the second argument of issubdtype from `int` to `np.signedinteger` is deprecated. In future, it will be treated as `np.int64 == np.dtype(int).type`.\n",
      "  if np.issubdtype(vec.dtype, np.int):\n"
     ]
    },
    {
     "data": {
      "text/plain": [
       "[('진리/NNG', 0.6349162459373474),\n",
       " ('천재/NNG', 0.5876551866531372),\n",
       " ('꿀/NNG', 0.5422405004501343),\n",
       " ('최강/NNG', 0.5165615081787109),\n",
       " ('스튜디오/NNG', 0.5063807964324951),\n",
       " ('짱/NNG', 0.5060076713562012),\n",
       " ('독보/NNG', 0.5038602948188782),\n",
       " ('강추/NNG', 0.4964275062084198),\n",
       " ('갓석원/NNP', 0.4937012493610382),\n",
       " ('갑/NNG', 0.4907340407371521),\n",
       " ('원탑/NNG', 0.4861641526222229),\n",
       " ('특유/NNG', 0.48340487480163574),\n",
       " ('왕/NNG', 0.4815526008605957),\n",
       " ('장점/NNG', 0.48095786571502686),\n",
       " ('독보적/NNG', 0.48050084710121155),\n",
       " ('전설/NNG', 0.4684378504753113),\n",
       " ('력이/UN', 0.46690723299980164),\n",
       " ('베/NNG', 0.46293020248413086),\n",
       " ('최악/NNG', 0.45892590284347534),\n",
       " ('끝판/NNG', 0.4577917158603668)]"
      ]
     },
     "execution_count": 143,
     "metadata": {},
     "output_type": "execute_result"
    }
   ],
   "source": [
    "model.wv.most_similar(*kkmaTokenize(u'최고'), topn=20)"
   ]
  },
  {
   "cell_type": "code",
   "execution_count": 144,
   "metadata": {},
   "outputs": [
    {
     "name": "stderr",
     "output_type": "stream",
     "text": [
      "/anaconda3/lib/python3.6/site-packages/gensim/matutils.py:737: FutureWarning: Conversion of the second argument of issubdtype from `int` to `np.signedinteger` is deprecated. In future, it will be treated as `np.int64 == np.dtype(int).type`.\n",
      "  if np.issubdtype(vec.dtype, np.int):\n"
     ]
    },
    {
     "data": {
      "text/plain": [
       "[('리얼/NNG', 0.5610213279724121),\n",
       " ('진짜/NNG', 0.5564630627632141),\n",
       " ('어록/NNG', 0.505672037601471),\n",
       " ('부럽/VA', 0.5009069442749023),\n",
       " ('본/MDT', 0.4983322024345398),\n",
       " ('굿/NNG', 0.49388590455055237),\n",
       " ('ᄏᄏᄏ/SW', 0.491953045129776),\n",
       " ('진리/NNG', 0.48688799142837524),\n",
       " ('ㅋㅋㅋㅋ/EMO', 0.483641654253006),\n",
       " ('망하/VV', 0.48134157061576843),\n",
       " ('작전/NNG', 0.48111993074417114),\n",
       " ('꿀/NNG', 0.48098108172416687),\n",
       " ('잼/NNG', 0.48069727420806885),\n",
       " ('ㅠ_ㅠ/EMO', 0.476563036441803),\n",
       " ('팬/NNG', 0.4730435013771057),\n",
       " ('짱/NNG', 0.47246253490448),\n",
       " ('급/NNG', 0.4690660238265991),\n",
       " ('ᄏᄏᄏᄏ/SW', 0.4663374125957489),\n",
       " ('막장/NNG', 0.46528172492980957),\n",
       " ('망/NNG', 0.4649210274219513)]"
      ]
     },
     "execution_count": 144,
     "metadata": {},
     "output_type": "execute_result"
    }
   ],
   "source": [
    "model.wv.most_similar(*kkmaTokenize(u'대박'), topn=20)"
   ]
  },
  {
   "cell_type": "code",
   "execution_count": 145,
   "metadata": {},
   "outputs": [
    {
     "name": "stderr",
     "output_type": "stream",
     "text": [
      "/anaconda3/lib/python3.6/site-packages/gensim/matutils.py:737: FutureWarning: Conversion of the second argument of issubdtype from `int` to `np.signedinteger` is deprecated. In future, it will be treated as `np.int64 == np.dtype(int).type`.\n",
      "  if np.issubdtype(vec.dtype, np.int):\n"
     ]
    },
    {
     "data": {
      "text/plain": [
       "[('ㅎ/NNG', 0.6649019122123718),\n",
       " ('ㅋㅋ/EMO', 0.6436730027198792),\n",
       " ('ㅋㄲ/UN', 0.6176948547363281),\n",
       " (';/SP', 0.6033300757408142),\n",
       " ('\\ufeff/SW', 0.5963562726974487),\n",
       " ('ㅋㅋㅋ/EMO', 0.5902760028839111),\n",
       " ('ㄲ/UN', 0.5879543423652649),\n",
       " ('ᄏᄏ/SW', 0.587615966796875),\n",
       " ('ᄏᄏᄏ/SW', 0.5603001117706299),\n",
       " ('ㅌ/UN', 0.5556625127792358),\n",
       " ('-_-/EMO', 0.5507024526596069),\n",
       " ('ㅏ/UN', 0.5493370294570923),\n",
       " ('ㅅ/NNG', 0.5474454164505005),\n",
       " ('ㅋㅋㅋㅋ/EMO', 0.5336542725563049),\n",
       " ('ㅋㅋㅋㅋㅋㅋ/EMO', 0.5334810018539429),\n",
       " ('ㅡㅡ/EMO', 0.532422661781311),\n",
       " ('암튼/MAG', 0.5245128870010376),\n",
       " ('ㅁ/NNG', 0.5233185291290283),\n",
       " ('ㅔ/UN', 0.5193989276885986),\n",
       " ('ㅎㅎㅎ/EMO', 0.518976092338562)]"
      ]
     },
     "execution_count": 145,
     "metadata": {},
     "output_type": "execute_result"
    }
   ],
   "source": [
    "model.wv.most_similar(*kkmaTokenize(u'ㅋ'), topn=20)"
   ]
  },
  {
   "cell_type": "code",
   "execution_count": null,
   "metadata": {},
   "outputs": [],
   "source": [
    "model1.wv.most_similar(*kkmaTokenize(u''), topn=20)"
   ]
  },
  {
   "cell_type": "markdown",
   "metadata": {},
   "source": [
    "## 부정"
   ]
  },
  {
   "cell_type": "code",
   "execution_count": 146,
   "metadata": {},
   "outputs": [
    {
     "name": "stderr",
     "output_type": "stream",
     "text": [
      "/anaconda3/lib/python3.6/site-packages/gensim/matutils.py:737: FutureWarning: Conversion of the second argument of issubdtype from `int` to `np.signedinteger` is deprecated. In future, it will be treated as `np.int64 == np.dtype(int).type`.\n",
      "  if np.issubdtype(vec.dtype, np.int):\n"
     ]
    },
    {
     "data": {
      "text/plain": [
       "[('힘들/VA', 0.6798734664916992),\n",
       " ('편하/VA', 0.6623504161834717),\n",
       " ('벅차/VA', 0.6492369174957275),\n",
       " ('무섭/VA', 0.63593590259552),\n",
       " ('싸대/VV', 0.6092797517776489),\n",
       " ('귀찮/VA', 0.6077446937561035),\n",
       " ('바쁘/VA', 0.5917718410491943),\n",
       " ('아깝/VA', 0.5900555849075317),\n",
       " ('물려받/VV', 0.5826684236526489),\n",
       " ('따라잡/VV', 0.5807799100875854),\n",
       " ('재미있/VA', 0.5733126401901245),\n",
       " ('늦/VV', 0.5674577355384827),\n",
       " ('맛보/VV', 0.5617651343345642),\n",
       " ('듯싶/VXA', 0.5553614497184753),\n",
       " ('적/VA', 0.5543302297592163),\n",
       " ('마련/NNG', 0.5537329912185669),\n",
       " ('아쉽/VA', 0.553676187992096),\n",
       " ('재밌/VA', 0.5525140762329102),\n",
       " ('좋/VA', 0.5517982244491577),\n",
       " ('두렵/VA', 0.5491080284118652)]"
      ]
     },
     "execution_count": 146,
     "metadata": {},
     "output_type": "execute_result"
    }
   ],
   "source": [
    "model.wv.most_similar(*kkmaTokenize(u'싫'), topn=20)"
   ]
  },
  {
   "cell_type": "code",
   "execution_count": 147,
   "metadata": {},
   "outputs": [
    {
     "name": "stderr",
     "output_type": "stream",
     "text": [
      "/anaconda3/lib/python3.6/site-packages/gensim/matutils.py:737: FutureWarning: Conversion of the second argument of issubdtype from `int` to `np.signedinteger` is deprecated. In future, it will be treated as `np.int64 == np.dtype(int).type`.\n",
      "  if np.issubdtype(vec.dtype, np.int):\n"
     ]
    },
    {
     "data": {
      "text/plain": [
       "[('비싸/VA', 0.5631577372550964),\n",
       " ('다치/VV', 0.5568575859069824),\n",
       " ('아쉽/VA', 0.5552574396133423),\n",
       " ('같/VA', 0.5405921339988708),\n",
       " ('기억나/VV', 0.5228581428527832),\n",
       " ('따/VV', 0.5214623212814331),\n",
       " ('부리/VV', 0.519192099571228),\n",
       " ('아프/VA', 0.5019804835319519),\n",
       " ('어렵/VA', 0.49303680658340454),\n",
       " ('까다롭/VA', 0.4930151402950287),\n",
       " ('놀랍/VA', 0.4841268062591553),\n",
       " ('흔하/VA', 0.47835883498191833),\n",
       " ('좋/VA', 0.4756927192211151),\n",
       " ('넓/VA', 0.47327834367752075),\n",
       " ('벅차/VA', 0.47162002325057983),\n",
       " ('높/VA', 0.46853628754615784),\n",
       " ('무섭/VA', 0.4684203267097473),\n",
       " ('엄청나/VA', 0.46558839082717896),\n",
       " ('힘들/VA', 0.4638204574584961),\n",
       " ('편하/VA', 0.4629998803138733)]"
      ]
     },
     "execution_count": 147,
     "metadata": {},
     "output_type": "execute_result"
    }
   ],
   "source": [
    "model.wv.most_similar(*kkmaTokenize(u'나쁘'), topn=20)"
   ]
  },
  {
   "cell_type": "code",
   "execution_count": 148,
   "metadata": {},
   "outputs": [
    {
     "name": "stderr",
     "output_type": "stream",
     "text": [
      "/anaconda3/lib/python3.6/site-packages/gensim/matutils.py:737: FutureWarning: Conversion of the second argument of issubdtype from `int` to `np.signedinteger` is deprecated. In future, it will be treated as `np.int64 == np.dtype(int).type`.\n",
      "  if np.issubdtype(vec.dtype, np.int):\n"
     ]
    },
    {
     "data": {
      "text/plain": [
       "[('딱히/MAG', 0.5633641481399536),\n",
       " ('별/NNG', 0.4976460635662079),\n",
       " ('그다지/MAG', 0.466906875371933),\n",
       " ('차이나/NNG', 0.43171319365501404),\n",
       " ('오히려/MAG', 0.41587144136428833),\n",
       " ('아직/MAG', 0.38648200035095215),\n",
       " ('이/JKS', 0.378835529088974),\n",
       " ('평이/XR', 0.3777371048927307),\n",
       " ('전혀/MAG', 0.3749315142631531),\n",
       " ('론/XSN', 0.3744548559188843),\n",
       " ('그런/MDT', 0.3717228174209595),\n",
       " ('많이/MAG', 0.3611833453178406),\n",
       " ('뭔/MDT', 0.36038148403167725),\n",
       " ('아예/MAG', 0.3601883053779602),\n",
       " ('어려움/NNG', 0.3594343066215515),\n",
       " ('솔직히/MAG', 0.3564833402633667),\n",
       " ('무리/NNG', 0.35242557525634766),\n",
       " ('문관/NNG', 0.35222941637039185),\n",
       " ('콘텐츠/NNG', 0.3473266065120697),\n",
       " ('우세/NNG', 0.3239908814430237)]"
      ]
     },
     "execution_count": 148,
     "metadata": {},
     "output_type": "execute_result"
    }
   ],
   "source": [
    "model.wv.most_similar(*kkmaTokenize(u'별로'), topn=20)"
   ]
  },
  {
   "cell_type": "code",
   "execution_count": 149,
   "metadata": {},
   "outputs": [
    {
     "name": "stderr",
     "output_type": "stream",
     "text": [
      "/anaconda3/lib/python3.6/site-packages/gensim/matutils.py:737: FutureWarning: Conversion of the second argument of issubdtype from `int` to `np.signedinteger` is deprecated. In future, it will be treated as `np.int64 == np.dtype(int).type`.\n",
      "  if np.issubdtype(vec.dtype, np.int):\n"
     ]
    },
    {
     "data": {
      "text/plain": [
       "[('쉽/VA', 0.8037000894546509),\n",
       " ('힘들/VA', 0.7029531598091125),\n",
       " ('아쉽/VA', 0.650212287902832),\n",
       " ('느리/VA', 0.6339839100837708),\n",
       " ('버겁/VA', 0.6287789344787598),\n",
       " ('심하/VA', 0.6159349679946899),\n",
       " ('비싸/VA', 0.6135199069976807),\n",
       " ('벅차/VA', 0.6028482913970947),\n",
       " ('낯설/VA', 0.6022232174873352),\n",
       " ('약하/VA', 0.5990930795669556),\n",
       " ('두렵/VA', 0.5953423976898193),\n",
       " ('그렇/VA', 0.5735757946968079),\n",
       " ('헷갈리/VV', 0.5700293779373169),\n",
       " ('더럽/VA', 0.5697715282440186),\n",
       " ('끌리/VV', 0.5694268941879272),\n",
       " ('무섭/VA', 0.5610488057136536),\n",
       " ('어려워지/VV', 0.5599420070648193),\n",
       " ('딸리/VV', 0.5537436604499817),\n",
       " ('틀리/VV', 0.5491679906845093),\n",
       " ('과하/VA', 0.5439344048500061)]"
      ]
     },
     "execution_count": 149,
     "metadata": {},
     "output_type": "execute_result"
    }
   ],
   "source": [
    "model.wv.most_similar(*kkmaTokenize(u'어렵'), topn=20)"
   ]
  },
  {
   "cell_type": "code",
   "execution_count": 150,
   "metadata": {},
   "outputs": [
    {
     "name": "stderr",
     "output_type": "stream",
     "text": [
      "/anaconda3/lib/python3.6/site-packages/gensim/matutils.py:737: FutureWarning: Conversion of the second argument of issubdtype from `int` to `np.signedinteger` is deprecated. In future, it will be treated as `np.int64 == np.dtype(int).type`.\n",
      "  if np.issubdtype(vec.dtype, np.int):\n"
     ]
    },
    {
     "data": {
      "text/plain": [
       "[('신기/NNG', 0.655745267868042),\n",
       " ('기지개/NNG', 0.6293511390686035),\n",
       " ('불친절/NNG', 0.6222758889198303),\n",
       " ('섹시/NNG', 0.6188826560974121),\n",
       " ('섹시하/VA', 0.6071798801422119),\n",
       " ('방대/NNG', 0.6052312254905701),\n",
       " ('우울하/VV', 0.5985665321350098),\n",
       " ('ㅋㅌ/UN', 0.5929097533226013),\n",
       " ('역겹/VA', 0.5904941558837891),\n",
       " ('멋지/VA', 0.5869740843772888),\n",
       " ('지치/VV', 0.5842204689979553),\n",
       " ('춥/VA', 0.5836058259010315),\n",
       " ('슬픔/NNG', 0.5778835415840149),\n",
       " ('간결/NNG', 0.5769906044006348),\n",
       " ('가끔가다/MAG', 0.574805736541748),\n",
       " ('비트/NNG', 0.5742379426956177),\n",
       " ('빡빡하/VA', 0.5739399790763855),\n",
       " ('ㅋㅌㅌ/UN', 0.5729572772979736),\n",
       " ('앜/UN', 0.5724743008613586),\n",
       " ('생기/NNG', 0.5722910761833191)]"
      ]
     },
     "execution_count": 150,
     "metadata": {},
     "output_type": "execute_result"
    }
   ],
   "source": [
    "model.wv.most_similar(*kkmaTokenize(u'피곤'), topn=20)"
   ]
  },
  {
   "cell_type": "code",
   "execution_count": 151,
   "metadata": {},
   "outputs": [
    {
     "name": "stderr",
     "output_type": "stream",
     "text": [
      "/anaconda3/lib/python3.6/site-packages/gensim/matutils.py:737: FutureWarning: Conversion of the second argument of issubdtype from `int` to `np.signedinteger` is deprecated. In future, it will be treated as `np.int64 == np.dtype(int).type`.\n",
      "  if np.issubdtype(vec.dtype, np.int):\n"
     ]
    },
    {
     "data": {
      "text/plain": [
       "[('부실/NNG', 0.7801867723464966),\n",
       " ('약/NNG', 0.7424917221069336),\n",
       " ('중요/NNG', 0.7316609621047974),\n",
       " ('모자라/VV', 0.6353992819786072),\n",
       " ('불안/NNG', 0.6348877549171448),\n",
       " ('빈약/NNG', 0.6155375242233276),\n",
       " ('흔들리/VV', 0.580411434173584),\n",
       " ('불편/NNG', 0.5690000653266907),\n",
       " ('완벽/NNG', 0.5617067813873291),\n",
       " ('약하/VA', 0.557885468006134),\n",
       " ('취약/NNG', 0.5533701777458191),\n",
       " ('분명/NNG', 0.5444401502609253),\n",
       " ('위험/NNG', 0.5359241962432861),\n",
       " ('풀만/NNG', 0.5277978777885437),\n",
       " ('불가능/NNG', 0.5252294540405273),\n",
       " ('포기/NNG', 0.5229480266571045),\n",
       " ('어중간/NNG', 0.5212410092353821),\n",
       " ('촉박/NNG', 0.5170719027519226),\n",
       " ('필요/NNG', 0.5134636759757996),\n",
       " ('낯설/VA', 0.5133968591690063)]"
      ]
     },
     "execution_count": 151,
     "metadata": {},
     "output_type": "execute_result"
    }
   ],
   "source": [
    "model.wv.most_similar(*kkmaTokenize(u'부족'), topn=20)"
   ]
  },
  {
   "cell_type": "code",
   "execution_count": 152,
   "metadata": {
    "scrolled": true
   },
   "outputs": [
    {
     "name": "stderr",
     "output_type": "stream",
     "text": [
      "/anaconda3/lib/python3.6/site-packages/gensim/matutils.py:737: FutureWarning: Conversion of the second argument of issubdtype from `int` to `np.signedinteger` is deprecated. In future, it will be treated as `np.int64 == np.dtype(int).type`.\n",
      "  if np.issubdtype(vec.dtype, np.int):\n"
     ]
    },
    {
     "data": {
      "text/plain": [
       "[('중요/NNG', 0.5973585247993469),\n",
       " ('분명/NNG', 0.5927754044532776),\n",
       " ('위험/NNG', 0.5754760503768921),\n",
       " ('인정/NNG', 0.5700955390930176),\n",
       " ('존재/NNG', 0.5700411796569824),\n",
       " ('적합/NNG', 0.5581547617912292),\n",
       " ('급/NNG', 0.5512802004814148),\n",
       " ('표현/NNG', 0.5480475425720215),\n",
       " ('단순/NNG', 0.5444998741149902),\n",
       " ('특별/NNG', 0.5441849827766418),\n",
       " ('수렴/NNG', 0.5284802913665771),\n",
       " ('독특/NNG', 0.5280606150627136),\n",
       " ('그러하/VA', 0.5278388261795044),\n",
       " ('부족/NNG', 0.5252294540405273),\n",
       " ('유용/NNG', 0.5220498442649841),\n",
       " ('섹시/NNG', 0.5197098255157471),\n",
       " ('동감/NNG', 0.5188899040222168),\n",
       " ('성립/NNG', 0.5188356637954712),\n",
       " ('동일/NNG', 0.516717791557312),\n",
       " ('완벽/NNG', 0.5055947303771973)]"
      ]
     },
     "execution_count": 152,
     "metadata": {},
     "output_type": "execute_result"
    }
   ],
   "source": [
    "model.wv.most_similar(*kkmaTokenize(u'불가능'), topn=20)"
   ]
  }
 ],
 "metadata": {
  "kernelspec": {
   "display_name": "Python 3",
   "language": "python",
   "name": "python3"
  },
  "language_info": {
   "codemirror_mode": {
    "name": "ipython",
    "version": 3
   },
   "file_extension": ".py",
   "mimetype": "text/x-python",
   "name": "python",
   "nbconvert_exporter": "python",
   "pygments_lexer": "ipython3",
   "version": "3.6.5"
  }
 },
 "nbformat": 4,
 "nbformat_minor": 2
}
