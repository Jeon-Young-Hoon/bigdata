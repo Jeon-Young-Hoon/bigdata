{
 "cells": [
  {
   "cell_type": "code",
   "execution_count": null,
   "metadata": {},
   "outputs": [],
   "source": []
  },
  {
   "cell_type": "code",
   "execution_count": 1,
   "metadata": {},
   "outputs": [],
   "source": [
    "from sklearn.cluster import KMeans\n",
    "import matplotlib.pyplot as plt\n",
    "from sklearn.datasets import load_iris\n",
    "from sklearn.preprocessing import OneHotEncoder\n",
    "import numpy as np\n",
    "data = load_iris() # 이게 word2vec이라고 가정할게. 우리꺼로 따지면 word는 '한석원' vec은 word2vec을통해 구한 벡터값\n",
    "word,vecs = [data.target_names[x] for x in data.target ],data.data  # 우리는 word2vec을 넣어야겠지?\n",
    "\n",
    "for i in range(len(word)):\n",
    "    word[i]+=str(i)\n",
    "\n",
    "enc = OneHotEncoder()\n",
    "n_cluster = 20\n",
    "inertia_list = []\n"
   ]
  },
  {
   "cell_type": "code",
   "execution_count": 2,
   "metadata": {},
   "outputs": [],
   "source": [
    "for i in range(3,n_cluster):\n",
    "\n",
    "    km = KMeans(n_clusters=i)\n",
    "\n",
    "    km.fit(vecs)\n",
    "    \n",
    "    inertia_list.append(km.inertia_)"
   ]
  },
  {
   "cell_type": "code",
   "execution_count": 3,
   "metadata": {},
   "outputs": [
    {
     "data": {
      "image/png": "[encoded data removed]",
      "text/plain": [
       "<Figure size 432x288 with 1 Axes>"
      ]
     },
     "metadata": {},
     "output_type": "display_data"
    }
   ],
   "source": [
    "plt.plot(inertia_list)\n",
    "plt.show() # 여기서 5처럼 갑자기 경사가 낮아지는곳 정하기"
   ]
  },
  {
   "cell_type": "code",
   "execution_count": 4,
   "metadata": {},
   "outputs": [
    {
     "name": "stdout",
     "output_type": "stream",
     "text": [
      "setosa0 0\n",
      "setosa1 0\n",
      "setosa2 0\n",
      "setosa3 0\n",
      "setosa4 0\n",
      "setosa5 0\n",
      "setosa6 0\n",
      "setosa7 0\n",
      "setosa8 0\n",
      "setosa9 0\n",
      "setosa10 0\n",
      "setosa11 0\n",
      "setosa12 0\n",
      "setosa13 0\n",
      "setosa14 0\n",
      "setosa15 0\n",
      "setosa16 0\n",
      "setosa17 0\n",
      "setosa18 0\n",
      "setosa19 0\n",
      "setosa20 0\n",
      "setosa21 0\n",
      "setosa22 0\n",
      "setosa23 0\n",
      "setosa24 0\n",
      "setosa25 0\n",
      "setosa26 0\n",
      "setosa27 0\n",
      "setosa28 0\n",
      "setosa29 0\n",
      "setosa30 0\n",
      "setosa31 0\n",
      "setosa32 0\n",
      "setosa33 0\n",
      "setosa34 0\n",
      "setosa35 0\n",
      "setosa36 0\n",
      "setosa37 0\n",
      "setosa38 0\n",
      "setosa39 0\n",
      "setosa40 0\n",
      "setosa41 0\n",
      "setosa42 0\n",
      "setosa43 0\n",
      "setosa44 0\n",
      "setosa45 0\n",
      "setosa46 0\n",
      "setosa47 0\n",
      "setosa48 0\n",
      "setosa49 0\n",
      "versicolor50 1\n",
      "versicolor51 1\n",
      "versicolor52 1\n",
      "versicolor53 4\n",
      "versicolor54 1\n",
      "versicolor55 1\n",
      "versicolor56 1\n",
      "versicolor57 4\n",
      "versicolor58 1\n",
      "versicolor59 4\n",
      "versicolor60 4\n",
      "versicolor61 1\n",
      "versicolor62 4\n",
      "versicolor63 1\n",
      "versicolor64 4\n",
      "versicolor65 1\n",
      "versicolor66 1\n",
      "versicolor67 4\n",
      "versicolor68 1\n",
      "versicolor69 4\n",
      "versicolor70 1\n",
      "versicolor71 4\n",
      "versicolor72 1\n",
      "versicolor73 1\n",
      "versicolor74 1\n",
      "versicolor75 1\n",
      "versicolor76 1\n",
      "versicolor77 1\n",
      "versicolor78 1\n",
      "versicolor79 4\n",
      "versicolor80 4\n",
      "versicolor81 4\n",
      "versicolor82 4\n",
      "versicolor83 1\n",
      "versicolor84 4\n",
      "versicolor85 1\n",
      "versicolor86 1\n",
      "versicolor87 1\n",
      "versicolor88 4\n",
      "versicolor89 4\n",
      "versicolor90 4\n",
      "versicolor91 1\n",
      "versicolor92 4\n",
      "versicolor93 4\n",
      "versicolor94 4\n",
      "versicolor95 4\n",
      "versicolor96 4\n",
      "versicolor97 1\n",
      "versicolor98 4\n",
      "versicolor99 4\n",
      "virginica100 3\n",
      "virginica101 1\n",
      "virginica102 2\n",
      "virginica103 3\n",
      "virginica104 3\n",
      "virginica105 2\n",
      "virginica106 4\n",
      "virginica107 2\n",
      "virginica108 3\n",
      "virginica109 2\n",
      "virginica110 3\n",
      "virginica111 3\n",
      "virginica112 3\n",
      "virginica113 1\n",
      "virginica114 3\n",
      "virginica115 3\n",
      "virginica116 3\n",
      "virginica117 2\n",
      "virginica118 2\n",
      "virginica119 1\n",
      "virginica120 3\n",
      "virginica121 1\n",
      "virginica122 2\n",
      "virginica123 1\n",
      "virginica124 3\n",
      "virginica125 2\n",
      "virginica126 1\n",
      "virginica127 1\n",
      "virginica128 3\n",
      "virginica129 2\n",
      "virginica130 2\n",
      "virginica131 2\n",
      "virginica132 3\n",
      "virginica133 1\n",
      "virginica134 1\n",
      "virginica135 2\n",
      "virginica136 3\n",
      "virginica137 3\n",
      "virginica138 1\n",
      "virginica139 3\n",
      "virginica140 3\n",
      "virginica141 3\n",
      "virginica142 1\n",
      "virginica143 3\n",
      "virginica144 3\n",
      "virginica145 3\n",
      "virginica146 1\n",
      "virginica147 3\n",
      "virginica148 3\n",
      "virginica149 1\n"
     ]
    }
   ],
   "source": [
    "#만약에 5라면 아래를 통해 어디 클러스터에 속하는지 알수 있다.\n",
    "final_cluster = 5\n",
    "km = KMeans(n_clusters=final_cluster)\n",
    "pred = km.fit_predict(vecs)\n",
    "for i,j in zip(word,pred):\n",
    "    print(i,j)"
   ]
  },
  {
   "cell_type": "code",
   "execution_count": 5,
   "metadata": {},
   "outputs": [],
   "source": [
    "tmp_sentences = [['setosa4','virginica141'],\n",
    "                ['virginica126','virginica120']]"
   ]
  },
  {
   "cell_type": "code",
   "execution_count": 6,
   "metadata": {},
   "outputs": [
    {
     "data": {
      "text/plain": [
       "array([[1, 0, 0, 1, 0],\n",
       "       [0, 1, 0, 1, 0]], dtype=int64)"
      ]
     },
     "execution_count": 6,
     "metadata": {},
     "output_type": "execute_result"
    }
   ],
   "source": [
    "res_sentences = []\n",
    "for tmp_sentence in tmp_sentences:\n",
    "    tmp_list=[]\n",
    "    for i in tmp_sentence:\n",
    "        tmp_list.append(pred[word.index(i)])\n",
    "#     print(tmp_list)\n",
    "    res_sentences.append(np.bincount(tmp_list,minlength=final_cluster))\n",
    "np.array(res_sentences)"
   ]
  },
  {
   "cell_type": "code",
   "execution_count": null,
   "metadata": {},
   "outputs": [],
   "source": []
  },
  {
   "cell_type": "code",
   "execution_count": null,
   "metadata": {},
   "outputs": [],
   "source": []
  },
  {
   "cell_type": "code",
   "execution_count": null,
   "metadata": {},
   "outputs": [],
   "source": []
  },
  {
   "cell_type": "code",
   "execution_count": null,
   "metadata": {},
   "outputs": [],
   "source": []
  },
  {
   "cell_type": "code",
   "execution_count": 7,
   "metadata": {},
   "outputs": [],
   "source": [
    "import torch\n",
    "import torch.nn as nn\n",
    "import torch.nn.functional as F\n",
    "from sklearn.model_selection import train_test_split\n",
    "from torch.utils.data.dataset import Dataset\n",
    "from torch.utils.data import DataLoader"
   ]
  },
  {
   "cell_type": "code",
   "execution_count": 8,
   "metadata": {},
   "outputs": [],
   "source": [
    "X = np.array(res_sentences)\n",
    "y = np.ones(len(X)) # 우리가 아직 라벨링을 안했으니까 임시로\n",
    "X_train, X_test, y_train, y_test = train_test_split(X, y, test_size=0.33, random_state=42)\n",
    "\n",
    "batchSize=1\n",
    "learningRate = 0.01\n",
    "epochNum = 10\n",
    "device = torch.device('cuda' if torch.cuda.is_available() else 'cpu')"
   ]
  },
  {
   "cell_type": "code",
   "execution_count": 87,
   "metadata": {},
   "outputs": [],
   "source": [
    "class Mydataset(Dataset):\n",
    "    \n",
    "    def __init__(self,train_or_test=\"train\"):\n",
    "        if train_or_test == \"train\":\n",
    "            self.X=X_train\n",
    "            self.y=y_train\n",
    "        elif train_or_test == \"test\":\n",
    "            self.X=X_test\n",
    "            self.y=y_test\n",
    "        else:\n",
    "            self.X=X\n",
    "            self.y=y\n",
    "    def __getitem__(self,index):\n",
    "        return torch.from_numpy(X[index]).type(torch.FloatTensor),y[index]\n",
    "    \n",
    "    def __len__(self):\n",
    "        return len(self.y)"
   ]
  },
  {
   "cell_type": "code",
   "execution_count": 88,
   "metadata": {},
   "outputs": [],
   "source": [
    "train_dataset = Mydataset('train')\n",
    "train_loader = DataLoader(train_dataset,batch_size=batchSize,shuffle=True)\n",
    "\n",
    "test_dataset = Mydataset('test')\n",
    "test_loader = DataLoader(test_dataset,batch_size=batchSize,shuffle=True)\n",
    "\n",
    "tmp_dataset=Mydataset('tmp')\n",
    "tmp_loader=DataLoader(tmp_dataset,batch_size=2,shuffle=True)"
   ]
  },
  {
   "cell_type": "code",
   "execution_count": 89,
   "metadata": {},
   "outputs": [],
   "source": [
    "class Mynet(nn.Module):\n",
    "    \n",
    "    def __init__(self):\n",
    "        super(Mynet, self).__init__()\n",
    "        \n",
    "        #self.hidden1 = nn.Linear(final_cluster,10)\n",
    "        self.output = nn.Linear(5,1)\n",
    "    \n",
    "    def forward(self, x):\n",
    "#         z = self.hidden1(x)\n",
    "#         z = nn.Sigmoid(z)\n",
    "        z = self.output(x)\n",
    "        \n",
    "        return z\n",
    "        "
   ]
  },
  {
   "cell_type": "code",
   "execution_count": 95,
   "metadata": {},
   "outputs": [],
   "source": [
    "model = Mynet()\n",
    "model.train()                                                          \n",
    "costFunction = nn.BCELoss()                                   \n",
    "optimizer = torch.optim.Adam(model.parameters(), lr = learningRate)    \n",
    "\n",
    "totalStep = len(train_loader)"
   ]
  },
  {
   "cell_type": "code",
   "execution_count": 100,
   "metadata": {},
   "outputs": [
    {
     "name": "stdout",
     "output_type": "stream",
     "text": [
      "epoch:  0\n",
      "before outputs\n",
      "epoch:  1\n",
      "before outputs\n",
      "epoch:  2\n",
      "before outputs\n",
      "epoch:  3\n",
      "before outputs\n",
      "epoch:  4\n",
      "before outputs\n",
      "epoch:  5\n",
      "before outputs\n",
      "epoch:  6\n",
      "before outputs\n",
      "epoch:  7\n",
      "before outputs\n",
      "epoch:  8\n",
      "before outputs\n",
      "epoch:  9\n",
      "before outputs\n"
     ]
    },
    {
     "name": "stderr",
     "output_type": "stream",
     "text": [
      "C:\\Users\\jyh54\\Anaconda3\\lib\\site-packages\\torch\\nn\\functional.py:1594: UserWarning: Using a target size (torch.Size([2])) that is different to the input size (torch.Size([2, 1])) is deprecated. Please ensure they have the same size.\n",
      "  \"Please ensure they have the same size.\".format(target.size(), input.size()))\n"
     ]
    }
   ],
   "source": [
    "from torch.autograd import Variable\n",
    "\n",
    "for epoch in range(epochNum):\n",
    "    print('epoch: ',epoch)\n",
    "    for idx, (sen_bins, labels) in enumerate(tmp_loader):\n",
    "        \n",
    "        tmp_X = Variable(sen_bins)\n",
    "        tmp_y = labels\n",
    "        \n",
    "        #labels = labels.view(-1,1)\n",
    "        # Forward pass\n",
    "        print('before outputs')\n",
    "        outputs = model(tmp_X)    \n",
    "        loss = costFunction(outputs, tmp_y.float()) \n",
    "        \n",
    "        # Backward and optimize\n",
    "        optimizer.zero_grad()\n",
    "        loss.backward()\n",
    "        optimizer.step()\n",
    "        \n",
    "        if (idx + 1) % 100 == 0:\n",
    "            \n",
    "            print(\"Epoch [{}/{}], Step [{}/{}] Loss: {:.4f}\".format(epoch + 1, epochNum, idx + 1, totalStep, loss.item()))"
   ]
  },
  {
   "cell_type": "code",
   "execution_count": null,
   "metadata": {},
   "outputs": [],
   "source": [
    "print(\"hi\")"
   ]
  },
  {
   "cell_type": "code",
   "execution_count": null,
   "metadata": {},
   "outputs": [],
   "source": []
  }
 ],
 "metadata": {
  "kernelspec": {
   "display_name": "Python 3",
   "language": "python",
   "name": "python3"
  },
  "language_info": {
   "codemirror_mode": {
    "name": "ipython",
    "version": 3
   },
   "file_extension": ".py",
   "mimetype": "text/x-python",
   "name": "python",
   "nbconvert_exporter": "python",
   "pygments_lexer": "ipython3",
   "version": "3.6.5"
  }
 },
 "nbformat": 4,
 "nbformat_minor": 2
}
