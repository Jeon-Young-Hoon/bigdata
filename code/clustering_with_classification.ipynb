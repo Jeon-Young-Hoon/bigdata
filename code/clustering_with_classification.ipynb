{
 "cells": [
  {
   "cell_type": "code",
   "execution_count": null,
   "metadata": {},
   "outputs": [],
   "source": []
  },
  {
   "cell_type": "code",
   "execution_count": 16,
   "metadata": {
    "scrolled": true
   },
   "outputs": [
    {
     "ename": "RuntimeError",
     "evalue": "you must first build vocabulary before training the model",
     "output_type": "error",
     "traceback": [
      "\u001b[1;31m---------------------------------------------------------------------------\u001b[0m",
      "\u001b[1;31mRuntimeError\u001b[0m                              Traceback (most recent call last)",
      "\u001b[1;32m<ipython-input-16-44f256554286>\u001b[0m in \u001b[0;36m<module>\u001b[1;34m()\u001b[0m\n\u001b[0;32m     12\u001b[0m \u001b[1;33m\u001b[0m\u001b[0m\n\u001b[0;32m     13\u001b[0m \u001b[0mmodel\u001b[0m \u001b[1;33m=\u001b[0m \u001b[0mWord2Vec\u001b[0m\u001b[1;33m(\u001b[0m\u001b[1;33m)\u001b[0m\u001b[1;33m\u001b[0m\u001b[0m\n\u001b[1;32m---> 14\u001b[1;33m \u001b[0mmodel\u001b[0m\u001b[1;33m.\u001b[0m\u001b[0mtrain\u001b[0m\u001b[1;33m(\u001b[0m\u001b[0msentences\u001b[0m\u001b[1;33m)\u001b[0m\u001b[1;33m\u001b[0m\u001b[0m\n\u001b[0m\u001b[0;32m     15\u001b[0m \u001b[1;31m# model.init_sims(replace=True)\u001b[0m\u001b[1;33m\u001b[0m\u001b[1;33m\u001b[0m\u001b[0m\n\u001b[0;32m     16\u001b[0m \u001b[1;31m# vocab,vocab_vector = model.wv.vocab(), model[vocab]\u001b[0m\u001b[1;33m\u001b[0m\u001b[1;33m\u001b[0m\u001b[0m\n",
      "\u001b[1;32m~\\Anaconda3\\lib\\site-packages\\gensim\\models\\word2vec.py\u001b[0m in \u001b[0;36mtrain\u001b[1;34m(self, sentences, total_examples, total_words, epochs, start_alpha, end_alpha, word_count, queue_factor, report_delay, compute_loss, callbacks)\u001b[0m\n\u001b[0;32m    854\u001b[0m             \u001b[0msentences\u001b[0m\u001b[1;33m,\u001b[0m \u001b[0mtotal_examples\u001b[0m\u001b[1;33m=\u001b[0m\u001b[0mtotal_examples\u001b[0m\u001b[1;33m,\u001b[0m \u001b[0mtotal_words\u001b[0m\u001b[1;33m=\u001b[0m\u001b[0mtotal_words\u001b[0m\u001b[1;33m,\u001b[0m\u001b[1;33m\u001b[0m\u001b[0m\n\u001b[0;32m    855\u001b[0m             \u001b[0mepochs\u001b[0m\u001b[1;33m=\u001b[0m\u001b[0mepochs\u001b[0m\u001b[1;33m,\u001b[0m \u001b[0mstart_alpha\u001b[0m\u001b[1;33m=\u001b[0m\u001b[0mstart_alpha\u001b[0m\u001b[1;33m,\u001b[0m \u001b[0mend_alpha\u001b[0m\u001b[1;33m=\u001b[0m\u001b[0mend_alpha\u001b[0m\u001b[1;33m,\u001b[0m \u001b[0mword_count\u001b[0m\u001b[1;33m=\u001b[0m\u001b[0mword_count\u001b[0m\u001b[1;33m,\u001b[0m\u001b[1;33m\u001b[0m\u001b[0m\n\u001b[1;32m--> 856\u001b[1;33m             queue_factor=queue_factor, report_delay=report_delay, compute_loss=compute_loss, callbacks=callbacks)\n\u001b[0m\u001b[0;32m    857\u001b[0m \u001b[1;33m\u001b[0m\u001b[0m\n\u001b[0;32m    858\u001b[0m     \u001b[1;32mdef\u001b[0m \u001b[0mscore\u001b[0m\u001b[1;33m(\u001b[0m\u001b[0mself\u001b[0m\u001b[1;33m,\u001b[0m \u001b[0msentences\u001b[0m\u001b[1;33m,\u001b[0m \u001b[0mtotal_sentences\u001b[0m\u001b[1;33m=\u001b[0m\u001b[0mint\u001b[0m\u001b[1;33m(\u001b[0m\u001b[1;36m1e6\u001b[0m\u001b[1;33m)\u001b[0m\u001b[1;33m,\u001b[0m \u001b[0mchunksize\u001b[0m\u001b[1;33m=\u001b[0m\u001b[1;36m100\u001b[0m\u001b[1;33m,\u001b[0m \u001b[0mqueue_factor\u001b[0m\u001b[1;33m=\u001b[0m\u001b[1;36m2\u001b[0m\u001b[1;33m,\u001b[0m \u001b[0mreport_delay\u001b[0m\u001b[1;33m=\u001b[0m\u001b[1;36m1\u001b[0m\u001b[1;33m)\u001b[0m\u001b[1;33m:\u001b[0m\u001b[1;33m\u001b[0m\u001b[0m\n",
      "\u001b[1;32m~\\Anaconda3\\lib\\site-packages\\gensim\\models\\base_any2vec.py\u001b[0m in \u001b[0;36mtrain\u001b[1;34m(self, sentences, total_examples, total_words, epochs, start_alpha, end_alpha, word_count, queue_factor, report_delay, compute_loss, callbacks)\u001b[0m\n\u001b[0;32m    936\u001b[0m             \u001b[0msentences\u001b[0m\u001b[1;33m,\u001b[0m \u001b[0mtotal_examples\u001b[0m\u001b[1;33m=\u001b[0m\u001b[0mtotal_examples\u001b[0m\u001b[1;33m,\u001b[0m \u001b[0mtotal_words\u001b[0m\u001b[1;33m=\u001b[0m\u001b[0mtotal_words\u001b[0m\u001b[1;33m,\u001b[0m\u001b[1;33m\u001b[0m\u001b[0m\n\u001b[0;32m    937\u001b[0m             \u001b[0mepochs\u001b[0m\u001b[1;33m=\u001b[0m\u001b[0mepochs\u001b[0m\u001b[1;33m,\u001b[0m \u001b[0mstart_alpha\u001b[0m\u001b[1;33m=\u001b[0m\u001b[0mstart_alpha\u001b[0m\u001b[1;33m,\u001b[0m \u001b[0mend_alpha\u001b[0m\u001b[1;33m=\u001b[0m\u001b[0mend_alpha\u001b[0m\u001b[1;33m,\u001b[0m \u001b[0mword_count\u001b[0m\u001b[1;33m=\u001b[0m\u001b[0mword_count\u001b[0m\u001b[1;33m,\u001b[0m\u001b[1;33m\u001b[0m\u001b[0m\n\u001b[1;32m--> 938\u001b[1;33m             queue_factor=queue_factor, report_delay=report_delay, compute_loss=compute_loss, callbacks=callbacks)\n\u001b[0m\u001b[0;32m    939\u001b[0m \u001b[1;33m\u001b[0m\u001b[0m\n\u001b[0;32m    940\u001b[0m     \u001b[1;32mdef\u001b[0m \u001b[0m_get_job_params\u001b[0m\u001b[1;33m(\u001b[0m\u001b[0mself\u001b[0m\u001b[1;33m,\u001b[0m \u001b[0mcur_epoch\u001b[0m\u001b[1;33m)\u001b[0m\u001b[1;33m:\u001b[0m\u001b[1;33m\u001b[0m\u001b[0m\n",
      "\u001b[1;32m~\\Anaconda3\\lib\\site-packages\\gensim\\models\\base_any2vec.py\u001b[0m in \u001b[0;36mtrain\u001b[1;34m(self, data_iterable, epochs, total_examples, total_words, queue_factor, report_delay, callbacks, **kwargs)\u001b[0m\n\u001b[0;32m    419\u001b[0m             \u001b[0mepochs\u001b[0m\u001b[1;33m=\u001b[0m\u001b[0mepochs\u001b[0m\u001b[1;33m,\u001b[0m\u001b[1;33m\u001b[0m\u001b[0m\n\u001b[0;32m    420\u001b[0m             \u001b[0mtotal_examples\u001b[0m\u001b[1;33m=\u001b[0m\u001b[0mtotal_examples\u001b[0m\u001b[1;33m,\u001b[0m\u001b[1;33m\u001b[0m\u001b[0m\n\u001b[1;32m--> 421\u001b[1;33m             total_words=total_words, **kwargs)\n\u001b[0m\u001b[0;32m    422\u001b[0m \u001b[1;33m\u001b[0m\u001b[0m\n\u001b[0;32m    423\u001b[0m         \u001b[1;32mfor\u001b[0m \u001b[0mcallback\u001b[0m \u001b[1;32min\u001b[0m \u001b[0mself\u001b[0m\u001b[1;33m.\u001b[0m\u001b[0mcallbacks\u001b[0m\u001b[1;33m:\u001b[0m\u001b[1;33m\u001b[0m\u001b[0m\n",
      "\u001b[1;32m~\\Anaconda3\\lib\\site-packages\\gensim\\models\\base_any2vec.py\u001b[0m in \u001b[0;36m_check_training_sanity\u001b[1;34m(self, epochs, total_examples, total_words, **kwargs)\u001b[0m\n\u001b[0;32m   1042\u001b[0m \u001b[1;33m\u001b[0m\u001b[0m\n\u001b[0;32m   1043\u001b[0m         \u001b[1;32mif\u001b[0m \u001b[1;32mnot\u001b[0m \u001b[0mself\u001b[0m\u001b[1;33m.\u001b[0m\u001b[0mwv\u001b[0m\u001b[1;33m.\u001b[0m\u001b[0mvocab\u001b[0m\u001b[1;33m:\u001b[0m  \u001b[1;31m# should be set by `build_vocab`\u001b[0m\u001b[1;33m\u001b[0m\u001b[0m\n\u001b[1;32m-> 1044\u001b[1;33m             \u001b[1;32mraise\u001b[0m \u001b[0mRuntimeError\u001b[0m\u001b[1;33m(\u001b[0m\u001b[1;34m\"you must first build vocabulary before training the model\"\u001b[0m\u001b[1;33m)\u001b[0m\u001b[1;33m\u001b[0m\u001b[0m\n\u001b[0m\u001b[0;32m   1045\u001b[0m         \u001b[1;32mif\u001b[0m \u001b[1;32mnot\u001b[0m \u001b[0mlen\u001b[0m\u001b[1;33m(\u001b[0m\u001b[0mself\u001b[0m\u001b[1;33m.\u001b[0m\u001b[0mwv\u001b[0m\u001b[1;33m.\u001b[0m\u001b[0mvectors\u001b[0m\u001b[1;33m)\u001b[0m\u001b[1;33m:\u001b[0m\u001b[1;33m\u001b[0m\u001b[0m\n\u001b[0;32m   1046\u001b[0m             \u001b[1;32mraise\u001b[0m \u001b[0mRuntimeError\u001b[0m\u001b[1;33m(\u001b[0m\u001b[1;34m\"you must initialize vectors before training the model\"\u001b[0m\u001b[1;33m)\u001b[0m\u001b[1;33m\u001b[0m\u001b[0m\n",
      "\u001b[1;31mRuntimeError\u001b[0m: you must first build vocabulary before training the model"
     ]
    }
   ],
   "source": [
    "from sklearn.cluster import KMeans\n",
    "import matplotlib.pyplot as plt\n",
    "from sklearn.datasets import load_iris\n",
    "from sklearn.preprocessing import OneHotEncoder\n",
    "import numpy as np\n",
    "import gensim\n",
    "\n",
    "from gensim.models.word2vec import Word2Vec\n",
    "from konlpy.tag import Kkma\n",
    "\n",
    "\n",
    "#word2벡터 부분\n",
    "model= Word2Vec()\n",
    "\n",
    "vocab,vocab_vector = model.wv.vocab(), model[vocab]\n",
    "\n",
    "\n",
    "n_cluster = 20\n",
    "inertia_list = []\n"
   ]
  },
  {
   "cell_type": "code",
   "execution_count": 4,
   "metadata": {},
   "outputs": [
    {
     "data": {
      "text/plain": [
       "<konlpy.corpus.CorpusLoader at 0x1a9a2438710>"
      ]
     },
     "execution_count": 4,
     "metadata": {},
     "output_type": "execute_result"
    }
   ],
   "source": [
    "d"
   ]
  },
  {
   "cell_type": "code",
   "execution_count": 8,
   "metadata": {},
   "outputs": [],
   "source": [
    "for i in range(3,n_cluster):\n",
    "\n",
    "    km = KMeans(n_clusters=i)\n",
    "\n",
    "    km.fit(vecs)\n",
    "    \n",
    "    inertia_list.append(km.inertia_)"
   ]
  },
  {
   "cell_type": "code",
   "execution_count": 9,
   "metadata": {},
   "outputs": [
    {
     "data": {
      "image/png": "[encoded data removed]",
      "text/plain": [
       "<Figure size 432x288 with 1 Axes>"
      ]
     },
     "metadata": {},
     "output_type": "display_data"
    }
   ],
   "source": [
    "plt.plot(inertia_list)\n",
    "plt.show() # 여기서 5처럼 갑자기 경사가 낮아지는곳 정하기"
   ]
  },
  {
   "cell_type": "code",
   "execution_count": 10,
   "metadata": {},
   "outputs": [
    {
     "name": "stdout",
     "output_type": "stream",
     "text": [
      "setosa0 1\n",
      "setosa1 1\n",
      "setosa2 1\n",
      "setosa3 1\n",
      "setosa4 1\n",
      "setosa5 1\n",
      "setosa6 1\n",
      "setosa7 1\n",
      "setosa8 1\n",
      "setosa9 1\n",
      "setosa10 1\n",
      "setosa11 1\n",
      "setosa12 1\n",
      "setosa13 1\n",
      "setosa14 1\n",
      "setosa15 1\n",
      "setosa16 1\n",
      "setosa17 1\n",
      "setosa18 1\n",
      "setosa19 1\n",
      "setosa20 1\n",
      "setosa21 1\n",
      "setosa22 1\n",
      "setosa23 1\n",
      "setosa24 1\n",
      "setosa25 1\n",
      "setosa26 1\n",
      "setosa27 1\n",
      "setosa28 1\n",
      "setosa29 1\n",
      "setosa30 1\n",
      "setosa31 1\n",
      "setosa32 1\n",
      "setosa33 1\n",
      "setosa34 1\n",
      "setosa35 1\n",
      "setosa36 1\n",
      "setosa37 1\n",
      "setosa38 1\n",
      "setosa39 1\n",
      "setosa40 1\n",
      "setosa41 1\n",
      "setosa42 1\n",
      "setosa43 1\n",
      "setosa44 1\n",
      "setosa45 1\n",
      "setosa46 1\n",
      "setosa47 1\n",
      "setosa48 1\n",
      "setosa49 1\n",
      "versicolor50 0\n",
      "versicolor51 0\n",
      "versicolor52 0\n",
      "versicolor53 3\n",
      "versicolor54 0\n",
      "versicolor55 0\n",
      "versicolor56 0\n",
      "versicolor57 3\n",
      "versicolor58 0\n",
      "versicolor59 3\n",
      "versicolor60 3\n",
      "versicolor61 0\n",
      "versicolor62 3\n",
      "versicolor63 0\n",
      "versicolor64 3\n",
      "versicolor65 0\n",
      "versicolor66 0\n",
      "versicolor67 3\n",
      "versicolor68 0\n",
      "versicolor69 3\n",
      "versicolor70 0\n",
      "versicolor71 3\n",
      "versicolor72 0\n",
      "versicolor73 0\n",
      "versicolor74 0\n",
      "versicolor75 0\n",
      "versicolor76 0\n",
      "versicolor77 0\n",
      "versicolor78 0\n",
      "versicolor79 3\n",
      "versicolor80 3\n",
      "versicolor81 3\n",
      "versicolor82 3\n",
      "versicolor83 0\n",
      "versicolor84 3\n",
      "versicolor85 0\n",
      "versicolor86 0\n",
      "versicolor87 0\n",
      "versicolor88 3\n",
      "versicolor89 3\n",
      "versicolor90 3\n",
      "versicolor91 0\n",
      "versicolor92 3\n",
      "versicolor93 3\n",
      "versicolor94 3\n",
      "versicolor95 3\n",
      "versicolor96 3\n",
      "versicolor97 0\n",
      "versicolor98 3\n",
      "versicolor99 3\n",
      "virginica100 2\n",
      "virginica101 0\n",
      "virginica102 4\n",
      "virginica103 2\n",
      "virginica104 2\n",
      "virginica105 4\n",
      "virginica106 3\n",
      "virginica107 4\n",
      "virginica108 2\n",
      "virginica109 4\n",
      "virginica110 2\n",
      "virginica111 2\n",
      "virginica112 2\n",
      "virginica113 0\n",
      "virginica114 2\n",
      "virginica115 2\n",
      "virginica116 2\n",
      "virginica117 4\n",
      "virginica118 4\n",
      "virginica119 0\n",
      "virginica120 2\n",
      "virginica121 0\n",
      "virginica122 4\n",
      "virginica123 0\n",
      "virginica124 2\n",
      "virginica125 4\n",
      "virginica126 0\n",
      "virginica127 0\n",
      "virginica128 2\n",
      "virginica129 4\n",
      "virginica130 4\n",
      "virginica131 4\n",
      "virginica132 2\n",
      "virginica133 0\n",
      "virginica134 0\n",
      "virginica135 4\n",
      "virginica136 2\n",
      "virginica137 2\n",
      "virginica138 0\n",
      "virginica139 2\n",
      "virginica140 2\n",
      "virginica141 2\n",
      "virginica142 0\n",
      "virginica143 2\n",
      "virginica144 2\n",
      "virginica145 2\n",
      "virginica146 0\n",
      "virginica147 2\n",
      "virginica148 2\n",
      "virginica149 0\n"
     ]
    }
   ],
   "source": [
    "#만약에 5라면 아래를 통해 어디 클러스터에 속하는지 알수 있다.\n",
    "final_cluster = 5\n",
    "km = KMeans(n_clusters=final_cluster)\n",
    "pred = km.fit_predict(vecs)\n",
    "for i,j in zip(word,pred):\n",
    "    print(i,j)"
   ]
  },
  {
   "cell_type": "code",
   "execution_count": 11,
   "metadata": {},
   "outputs": [],
   "source": [
    "tmp_sentences = [['setosa4','virginica141'],\n",
    "                ['virginica126','versicolor86']] # 절별로 짜른거"
   ]
  },
  {
   "cell_type": "code",
   "execution_count": 12,
   "metadata": {},
   "outputs": [
    {
     "data": {
      "text/plain": [
       "array([[0, 1, 1, 0, 0],\n",
       "       [2, 0, 0, 0, 0]], dtype=int64)"
      ]
     },
     "execution_count": 12,
     "metadata": {},
     "output_type": "execute_result"
    }
   ],
   "source": [
    "res_sentences = []\n",
    "for tmp_sentence in tmp_sentences:\n",
    "    tmp_list=[]\n",
    "    for i in tmp_sentence:\n",
    "        tmp_list.append(pred[word.index(i)])\n",
    "#     print(tmp_list)\n",
    "    res_sentences.append(np.bincount(tmp_list,minlength=final_cluster))\n",
    "np.array(res_sentences)"
   ]
  },
  {
   "cell_type": "code",
   "execution_count": null,
   "metadata": {},
   "outputs": [],
   "source": []
  },
  {
   "cell_type": "code",
   "execution_count": null,
   "metadata": {},
   "outputs": [],
   "source": []
  },
  {
   "cell_type": "code",
   "execution_count": 40,
   "metadata": {},
   "outputs": [],
   "source": [
    "def load_lex_dict():\n",
    "    positive_dict=['virginica141','좋','괜찮','진리','천재','꿀','짱','강추','장점','최고']\n",
    "    negative_dict=['versicolor86','힘들','벅차','무섭','귀찮','바쁘','아갑','늦','아쉽','두렵','별로']\n",
    "    return positive_dict,negative_dict\n",
    "\n",
    "positive_dict,negative_dict = load_lex_dict()\n",
    "def what_pos(sentence):\n",
    "    pos_case=[]\n",
    "    \n",
    "    for pd in positive_dict:\n",
    "        if pd in sentence:\n",
    "            print(pd)\n",
    "            pos_case.append(pd)\n",
    "    return pos_case\n",
    "\n",
    "def what_neg(sentence):\n",
    "    neg_case=[]\n",
    "    for nd in negative_dict:\n",
    "        if nd in sentence:\n",
    "            print(nd)\n",
    "            neg_case.append(nd)\n",
    "    return neg_case\n",
    "\n",
    "def senetene_labelling(ex_sentences):\n",
    "    \n",
    "    res_list=[]\n",
    "    for i,sentence in enumerate(ex_sentences):\n",
    "        \n",
    "        tmp_list=[]\n",
    "        \n",
    "        pos_list = what_pos(sentence)\n",
    "        neg_list = what_neg(sentence)\n",
    "        \n",
    "        res_list.append(float(len(pos_list) >= len(neg_list)))\n",
    "    \n",
    "        print(sentence,len(pos_list),len(neg_list))\n",
    "\n",
    "\n",
    "#         res_list.append([sentence,len(pos_list),len(neg_list)])\n",
    "            \n",
    "#         # debug\n",
    "#         print(i,'번째 문장: ',sentence)\n",
    "\n",
    "#         print('--positive case--\\n',pos_list)\n",
    "\n",
    "#         print('\\n\\n')\n",
    "\n",
    "#         print('--negative case--\\n',neg_list)\n",
    "\n",
    "#         print('\\n\\n')\n",
    "    return res_list\n"
   ]
  },
  {
   "cell_type": "code",
   "execution_count": null,
   "metadata": {},
   "outputs": [],
   "source": []
  },
  {
   "cell_type": "code",
   "execution_count": 41,
   "metadata": {},
   "outputs": [],
   "source": [
    "import torch\n",
    "import torch.nn as nn\n",
    "import torch.nn.functional as F\n",
    "from sklearn.model_selection import train_test_split\n",
    "from torch.utils.data.dataset import Dataset\n",
    "from torch.utils.data import DataLoader"
   ]
  },
  {
   "cell_type": "code",
   "execution_count": 42,
   "metadata": {},
   "outputs": [
    {
     "name": "stdout",
     "output_type": "stream",
     "text": [
      "virginica141\n",
      "['setosa4', 'virginica141'] 1 0\n",
      "versicolor86\n",
      "['virginica126', 'versicolor86'] 0 1\n"
     ]
    }
   ],
   "source": [
    "X = np.array(res_sentences)\n",
    "y = senetene_labelling(tmp_sentences)\n",
    "    \n",
    "# y = np.ones(len(X)) # 우리가 아직 라벨링을 안했으니까 임시로\n",
    "X_train, X_test, y_train, y_test = train_test_split(X, y, test_size=0.33, random_state=42)\n",
    "\n",
    "batchSize=1\n",
    "learningRate = 0.01\n",
    "epochNum = 10\n",
    "device = torch.device('cuda' if torch.cuda.is_available() else 'cpu')"
   ]
  },
  {
   "cell_type": "code",
   "execution_count": 44,
   "metadata": {},
   "outputs": [
    {
     "name": "stdout",
     "output_type": "stream",
     "text": [
      "[[0 1 1 0 0]\n",
      " [2 0 0 0 0]] [1.0, 0.0]\n"
     ]
    }
   ],
   "source": []
  },
  {
   "cell_type": "code",
   "execution_count": 87,
   "metadata": {},
   "outputs": [],
   "source": [
    "class Mydataset(Dataset):\n",
    "    \n",
    "    def __init__(self,train_or_test=\"train\"):\n",
    "        if train_or_test == \"train\":\n",
    "            self.X=X_train\n",
    "            self.y=y_train\n",
    "        elif train_or_test == \"test\":\n",
    "            self.X=X_test\n",
    "            self.y=y_test\n",
    "        else:\n",
    "            self.X=X\n",
    "            self.y=y\n",
    "    def __getitem__(self,index):\n",
    "        return torch.from_numpy(X[index]).type(torch.FloatTensor),y[index]\n",
    "    \n",
    "    def __len__(self):\n",
    "        return len(self.y)"
   ]
  },
  {
   "cell_type": "code",
   "execution_count": 88,
   "metadata": {},
   "outputs": [],
   "source": [
    "train_dataset = Mydataset('train')\n",
    "train_loader = DataLoader(train_dataset,batch_size=batchSize,shuffle=True)\n",
    "\n",
    "test_dataset = Mydataset('test')\n",
    "test_loader = DataLoader(test_dataset,batch_size=batchSize,shuffle=True)\n",
    "\n",
    "tmp_dataset=Mydataset('tmp')\n",
    "tmp_loader=DataLoader(tmp_dataset,batch_size=2,shuffle=True)"
   ]
  },
  {
   "cell_type": "code",
   "execution_count": 89,
   "metadata": {},
   "outputs": [],
   "source": [
    "class Mynet(nn.Module):\n",
    "    \n",
    "    def __init__(self):\n",
    "        super(Mynet, self).__init__()\n",
    "        \n",
    "        #self.hidden1 = nn.Linear(final_cluster,10)\n",
    "        self.output = nn.Linear(5,1)\n",
    "    \n",
    "    def forward(self, x):\n",
    "#         z = self.hidden1(x)\n",
    "#         z = nn.Sigmoid(z)\n",
    "        z = self.output(x)\n",
    "        \n",
    "        return z\n",
    "        "
   ]
  },
  {
   "cell_type": "code",
   "execution_count": 95,
   "metadata": {},
   "outputs": [],
   "source": [
    "model = Mynet()\n",
    "model.train()                                                          \n",
    "costFunction = nn.BCELoss()                                   \n",
    "optimizer = torch.optim.Adam(model.parameters(), lr = learningRate)    \n",
    "\n",
    "totalStep = len(train_loader)"
   ]
  },
  {
   "cell_type": "code",
   "execution_count": 100,
   "metadata": {},
   "outputs": [
    {
     "name": "stdout",
     "output_type": "stream",
     "text": [
      "epoch:  0\n",
      "before outputs\n",
      "epoch:  1\n",
      "before outputs\n",
      "epoch:  2\n",
      "before outputs\n",
      "epoch:  3\n",
      "before outputs\n",
      "epoch:  4\n",
      "before outputs\n",
      "epoch:  5\n",
      "before outputs\n",
      "epoch:  6\n",
      "before outputs\n",
      "epoch:  7\n",
      "before outputs\n",
      "epoch:  8\n",
      "before outputs\n",
      "epoch:  9\n",
      "before outputs\n"
     ]
    },
    {
     "name": "stderr",
     "output_type": "stream",
     "text": [
      "C:\\Users\\jyh54\\Anaconda3\\lib\\site-packages\\torch\\nn\\functional.py:1594: UserWarning: Using a target size (torch.Size([2])) that is different to the input size (torch.Size([2, 1])) is deprecated. Please ensure they have the same size.\n",
      "  \"Please ensure they have the same size.\".format(target.size(), input.size()))\n"
     ]
    }
   ],
   "source": [
    "from torch.autograd import Variable\n",
    "\n",
    "for epoch in range(epochNum):\n",
    "    print('epoch: ',epoch)\n",
    "    for idx, (sen_bins, labels) in enumerate(tmp_loader):\n",
    "        \n",
    "        tmp_X = Variable(sen_bins)\n",
    "        tmp_y = labels\n",
    "        \n",
    "        #labels = labels.view(-1,1)\n",
    "        # Forward pass\n",
    "        print('before outputs')\n",
    "        outputs = model(tmp_X)    \n",
    "        loss = costFunction(outputs, tmp_y.float()) \n",
    "        \n",
    "        # Backward and optimize\n",
    "        optimizer.zero_grad()\n",
    "        loss.backward()\n",
    "        optimizer.step()\n",
    "        \n",
    "        if (idx + 1) % 100 == 0:\n",
    "            \n",
    "            print(\"Epoch [{}/{}], Step [{}/{}] Loss: {:.4f}\".format(epoch + 1, epochNum, idx + 1, totalStep, loss.item()))"
   ]
  },
  {
   "cell_type": "code",
   "execution_count": null,
   "metadata": {},
   "outputs": [],
   "source": [
    "print(\"hi\")"
   ]
  },
  {
   "cell_type": "code",
   "execution_count": null,
   "metadata": {},
   "outputs": [],
   "source": []
  }
 ],
 "metadata": {
  "kernelspec": {
   "display_name": "Python 3",
   "language": "python",
   "name": "python3"
  },
  "language_info": {
   "codemirror_mode": {
    "name": "ipython",
    "version": 3
   },
   "file_extension": ".py",
   "mimetype": "text/x-python",
   "name": "python",
   "nbconvert_exporter": "python",
   "pygments_lexer": "ipython3",
   "version": "3.6.5"
  }
 },
 "nbformat": 4,
 "nbformat_minor": 2
}
